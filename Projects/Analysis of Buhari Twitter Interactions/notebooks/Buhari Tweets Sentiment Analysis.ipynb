{
 "cells": [
  {
   "cell_type": "markdown",
   "metadata": {},
   "source": [
    "# Data Preparation"
   ]
  },
  {
   "cell_type": "code",
   "execution_count": 2,
   "metadata": {},
   "outputs": [],
   "source": [
    "import pandas as pd"
   ]
  },
  {
   "cell_type": "code",
   "execution_count": 3,
   "metadata": {},
   "outputs": [
    {
     "data": {
      "text/html": [
       "<div>\n",
       "<style scoped>\n",
       "    .dataframe tbody tr th:only-of-type {\n",
       "        vertical-align: middle;\n",
       "    }\n",
       "\n",
       "    .dataframe tbody tr th {\n",
       "        vertical-align: top;\n",
       "    }\n",
       "\n",
       "    .dataframe thead th {\n",
       "        text-align: right;\n",
       "    }\n",
       "</style>\n",
       "<table border=\"1\" class=\"dataframe\">\n",
       "  <thead>\n",
       "    <tr style=\"text-align: right;\">\n",
       "      <th></th>\n",
       "      <th>Unnamed: 0</th>\n",
       "      <th>tweet_id</th>\n",
       "      <th>name</th>\n",
       "      <th>screen_name</th>\n",
       "      <th>retweet_count</th>\n",
       "      <th>text</th>\n",
       "      <th>mined_at</th>\n",
       "      <th>created_at</th>\n",
       "      <th>favourite_count</th>\n",
       "      <th>hashtags</th>\n",
       "      <th>status_count</th>\n",
       "      <th>location</th>\n",
       "      <th>source_device</th>\n",
       "      <th>retweet_text</th>\n",
       "      <th>quote_text</th>\n",
       "      <th>quote_screen_name</th>\n",
       "    </tr>\n",
       "  </thead>\n",
       "  <tbody>\n",
       "    <tr>\n",
       "      <td>0</td>\n",
       "      <td>0</td>\n",
       "      <td>1191387612969353216</td>\n",
       "      <td>Muhammadu Buhari</td>\n",
       "      <td>MBuhari</td>\n",
       "      <td>184</td>\n",
       "      <td>Today marks a new and beneficial relationship ...</td>\n",
       "      <td>2019-11-06 01:03:44.991462</td>\n",
       "      <td>2019-11-04 16:11:56.000000</td>\n",
       "      <td>694</td>\n",
       "      <td>[]</td>\n",
       "      <td>4045</td>\n",
       "      <td>NaN</td>\n",
       "      <td>Twitter for iPhone</td>\n",
       "      <td>None</td>\n",
       "      <td>None</td>\n",
       "      <td>None</td>\n",
       "    </tr>\n",
       "    <tr>\n",
       "      <td>1</td>\n",
       "      <td>1</td>\n",
       "      <td>1191387542047907842</td>\n",
       "      <td>Muhammadu Buhari</td>\n",
       "      <td>MBuhari</td>\n",
       "      <td>189</td>\n",
       "      <td>Today this changes. For the first time under o...</td>\n",
       "      <td>2019-11-06 01:03:44.991462</td>\n",
       "      <td>2019-11-04 16:11:39.000000</td>\n",
       "      <td>648</td>\n",
       "      <td>[]</td>\n",
       "      <td>4045</td>\n",
       "      <td>NaN</td>\n",
       "      <td>Twitter for iPhone</td>\n",
       "      <td>None</td>\n",
       "      <td>None</td>\n",
       "      <td>None</td>\n",
       "    </tr>\n",
       "    <tr>\n",
       "      <td>2</td>\n",
       "      <td>2</td>\n",
       "      <td>1191387184106016768</td>\n",
       "      <td>Muhammadu Buhari</td>\n",
       "      <td>MBuhari</td>\n",
       "      <td>140</td>\n",
       "      <td>All attempts to amend the law on the distribut...</td>\n",
       "      <td>2019-11-06 01:03:44.991462</td>\n",
       "      <td>2019-11-04 16:10:14.000000</td>\n",
       "      <td>428</td>\n",
       "      <td>[]</td>\n",
       "      <td>4045</td>\n",
       "      <td>NaN</td>\n",
       "      <td>Twitter for iPhone</td>\n",
       "      <td>None</td>\n",
       "      <td>None</td>\n",
       "      <td>None</td>\n",
       "    </tr>\n",
       "    <tr>\n",
       "      <td>3</td>\n",
       "      <td>3</td>\n",
       "      <td>1191386748615634944</td>\n",
       "      <td>Muhammadu Buhari</td>\n",
       "      <td>MBuhari</td>\n",
       "      <td>203</td>\n",
       "      <td>Nigeria will now receive its fair, rightful an...</td>\n",
       "      <td>2019-11-06 01:03:44.991462</td>\n",
       "      <td>2019-11-04 16:08:30.000000</td>\n",
       "      <td>563</td>\n",
       "      <td>[]</td>\n",
       "      <td>4045</td>\n",
       "      <td>NaN</td>\n",
       "      <td>Twitter for iPhone</td>\n",
       "      <td>None</td>\n",
       "      <td>None</td>\n",
       "      <td>None</td>\n",
       "    </tr>\n",
       "    <tr>\n",
       "      <td>4</td>\n",
       "      <td>4</td>\n",
       "      <td>1191383289975758849</td>\n",
       "      <td>Muhammadu Buhari</td>\n",
       "      <td>MBuhari</td>\n",
       "      <td>189</td>\n",
       "      <td>Now, a month later, we have together with the ...</td>\n",
       "      <td>2019-11-06 01:03:44.991462</td>\n",
       "      <td>2019-11-04 15:54:45.000000</td>\n",
       "      <td>708</td>\n",
       "      <td>[]</td>\n",
       "      <td>4045</td>\n",
       "      <td>NaN</td>\n",
       "      <td>Twitter for iPhone</td>\n",
       "      <td>None</td>\n",
       "      <td>None</td>\n",
       "      <td>None</td>\n",
       "    </tr>\n",
       "  </tbody>\n",
       "</table>\n",
       "</div>"
      ],
      "text/plain": [
       "   Unnamed: 0             tweet_id              name screen_name  \\\n",
       "0           0  1191387612969353216  Muhammadu Buhari     MBuhari   \n",
       "1           1  1191387542047907842  Muhammadu Buhari     MBuhari   \n",
       "2           2  1191387184106016768  Muhammadu Buhari     MBuhari   \n",
       "3           3  1191386748615634944  Muhammadu Buhari     MBuhari   \n",
       "4           4  1191383289975758849  Muhammadu Buhari     MBuhari   \n",
       "\n",
       "   retweet_count                                               text  \\\n",
       "0            184  Today marks a new and beneficial relationship ...   \n",
       "1            189  Today this changes. For the first time under o...   \n",
       "2            140  All attempts to amend the law on the distribut...   \n",
       "3            203  Nigeria will now receive its fair, rightful an...   \n",
       "4            189  Now, a month later, we have together with the ...   \n",
       "\n",
       "                     mined_at                  created_at  favourite_count  \\\n",
       "0  2019-11-06 01:03:44.991462  2019-11-04 16:11:56.000000              694   \n",
       "1  2019-11-06 01:03:44.991462  2019-11-04 16:11:39.000000              648   \n",
       "2  2019-11-06 01:03:44.991462  2019-11-04 16:10:14.000000              428   \n",
       "3  2019-11-06 01:03:44.991462  2019-11-04 16:08:30.000000              563   \n",
       "4  2019-11-06 01:03:44.991462  2019-11-04 15:54:45.000000              708   \n",
       "\n",
       "  hashtags  status_count  location       source_device retweet_text  \\\n",
       "0       []          4045       NaN  Twitter for iPhone         None   \n",
       "1       []          4045       NaN  Twitter for iPhone         None   \n",
       "2       []          4045       NaN  Twitter for iPhone         None   \n",
       "3       []          4045       NaN  Twitter for iPhone         None   \n",
       "4       []          4045       NaN  Twitter for iPhone         None   \n",
       "\n",
       "  quote_text quote_screen_name  \n",
       "0       None              None  \n",
       "1       None              None  \n",
       "2       None              None  \n",
       "3       None              None  \n",
       "4       None              None  "
      ]
     },
     "execution_count": 3,
     "metadata": {},
     "output_type": "execute_result"
    }
   ],
   "source": [
    "data = pd.read_csv(\"..\\\\data\\\\Mined_Buhari_Tweets.csv\")\n",
    "data.head()"
   ]
  },
  {
   "cell_type": "code",
   "execution_count": 4,
   "metadata": {},
   "outputs": [
    {
     "data": {
      "text/plain": [
       "Index(['Unnamed: 0', 'tweet_id', 'name', 'screen_name', 'retweet_count',\n",
       "       'text', 'mined_at', 'created_at', 'favourite_count', 'hashtags',\n",
       "       'status_count', 'location', 'source_device', 'retweet_text',\n",
       "       'quote_text', 'quote_screen_name'],\n",
       "      dtype='object')"
      ]
     },
     "execution_count": 4,
     "metadata": {},
     "output_type": "execute_result"
    }
   ],
   "source": [
    "data.columns"
   ]
  },
  {
   "cell_type": "code",
   "execution_count": 5,
   "metadata": {},
   "outputs": [
    {
     "data": {
      "text/plain": [
       "array([4045], dtype=int64)"
      ]
     },
     "execution_count": 5,
     "metadata": {},
     "output_type": "execute_result"
    }
   ],
   "source": [
    "data.status_count.unique()"
   ]
  },
  {
   "cell_type": "code",
   "execution_count": 6,
   "metadata": {},
   "outputs": [
    {
     "data": {
      "text/plain": [
       "array(['Twitter for iPhone', 'Twitter Media Studio', 'WriteRack',\n",
       "       'Twitter Web Client', 'Twitter for iPad', 'Twitter for BlackBerry',\n",
       "       'Thunderclap', 'Twitter for Android Tablets'], dtype=object)"
      ]
     },
     "execution_count": 6,
     "metadata": {},
     "output_type": "execute_result"
    }
   ],
   "source": [
    "data.source_device.unique()"
   ]
  },
  {
   "cell_type": "markdown",
   "metadata": {},
   "source": [
    "Might be interesting to see how content has been created using the different devices. Are there multiple handlers for the account?"
   ]
  },
  {
   "cell_type": "code",
   "execution_count": 7,
   "metadata": {},
   "outputs": [
    {
     "data": {
      "text/plain": [
       "array(['None'], dtype=object)"
      ]
     },
     "execution_count": 7,
     "metadata": {},
     "output_type": "execute_result"
    }
   ],
   "source": [
    "data.quote_text.unique()"
   ]
  },
  {
   "cell_type": "code",
   "execution_count": 8,
   "metadata": {},
   "outputs": [
    {
     "data": {
      "text/plain": [
       "1"
      ]
     },
     "execution_count": 8,
     "metadata": {},
     "output_type": "execute_result"
    }
   ],
   "source": [
    "data.quote_screen_name.nunique()"
   ]
  },
  {
   "cell_type": "code",
   "execution_count": 9,
   "metadata": {},
   "outputs": [
    {
     "data": {
      "text/plain": [
       "\"[{'text': 'FIFAU17WC', 'indices': [268, 278]}]\""
      ]
     },
     "execution_count": 9,
     "metadata": {},
     "output_type": "execute_result"
    }
   ],
   "source": [
    "data.hashtags.unique()[3]"
   ]
  },
  {
   "cell_type": "markdown",
   "metadata": {},
   "source": [
    "Let's investigate these hashtags"
   ]
  },
  {
   "cell_type": "code",
   "execution_count": 10,
   "metadata": {},
   "outputs": [],
   "source": [
    "from ast import literal_eval\n",
    "\n",
    "data.hashtags = data.hashtags.apply(lambda x: literal_eval(x))\n",
    "\n",
    "#Custom func that retrieves the hashtag from the dictionary\n",
    "def hashtag_remover(hash_series):\n",
    "    for i, row in enumerate(hash_series):\n",
    "        if len(row) == 0:\n",
    "            return \"\"\n",
    "        else:\n",
    "            return row['text']\n",
    "\n",
    "data.hashtags = data.hashtags.apply(hashtag_remover)"
   ]
  },
  {
   "cell_type": "code",
   "execution_count": 11,
   "metadata": {},
   "outputs": [
    {
     "data": {
      "text/plain": [
       "141"
      ]
     },
     "execution_count": 11,
     "metadata": {},
     "output_type": "execute_result"
    }
   ],
   "source": [
    "data.hashtags.nunique()"
   ]
  },
  {
   "cell_type": "markdown",
   "metadata": {},
   "source": [
    "So MBuhari has 141 hashtags in 597 tweets."
   ]
  },
  {
   "cell_type": "code",
   "execution_count": 12,
   "metadata": {},
   "outputs": [],
   "source": [
    "data.drop([\"Unnamed: 0\", \"tweet_id\", \"name\", \"screen_name\",\"mined_at\", \"location\", \"status_count\", \"quote_text\", \"quote_screen_name\"], axis=1, inplace=True)"
   ]
  },
  {
   "cell_type": "code",
   "execution_count": 13,
   "metadata": {},
   "outputs": [
    {
     "data": {
      "text/html": [
       "<div>\n",
       "<style scoped>\n",
       "    .dataframe tbody tr th:only-of-type {\n",
       "        vertical-align: middle;\n",
       "    }\n",
       "\n",
       "    .dataframe tbody tr th {\n",
       "        vertical-align: top;\n",
       "    }\n",
       "\n",
       "    .dataframe thead th {\n",
       "        text-align: right;\n",
       "    }\n",
       "</style>\n",
       "<table border=\"1\" class=\"dataframe\">\n",
       "  <thead>\n",
       "    <tr style=\"text-align: right;\">\n",
       "      <th></th>\n",
       "      <th>retweet_count</th>\n",
       "      <th>text</th>\n",
       "      <th>created_at</th>\n",
       "      <th>favourite_count</th>\n",
       "      <th>hashtags</th>\n",
       "      <th>source_device</th>\n",
       "      <th>retweet_text</th>\n",
       "    </tr>\n",
       "  </thead>\n",
       "  <tbody>\n",
       "    <tr>\n",
       "      <td>0</td>\n",
       "      <td>184</td>\n",
       "      <td>Today marks a new and beneficial relationship ...</td>\n",
       "      <td>2019-11-04 16:11:56.000000</td>\n",
       "      <td>694</td>\n",
       "      <td>None</td>\n",
       "      <td>Twitter for iPhone</td>\n",
       "      <td>None</td>\n",
       "    </tr>\n",
       "    <tr>\n",
       "      <td>1</td>\n",
       "      <td>189</td>\n",
       "      <td>Today this changes. For the first time under o...</td>\n",
       "      <td>2019-11-04 16:11:39.000000</td>\n",
       "      <td>648</td>\n",
       "      <td>None</td>\n",
       "      <td>Twitter for iPhone</td>\n",
       "      <td>None</td>\n",
       "    </tr>\n",
       "    <tr>\n",
       "      <td>2</td>\n",
       "      <td>140</td>\n",
       "      <td>All attempts to amend the law on the distribut...</td>\n",
       "      <td>2019-11-04 16:10:14.000000</td>\n",
       "      <td>428</td>\n",
       "      <td>None</td>\n",
       "      <td>Twitter for iPhone</td>\n",
       "      <td>None</td>\n",
       "    </tr>\n",
       "    <tr>\n",
       "      <td>3</td>\n",
       "      <td>203</td>\n",
       "      <td>Nigeria will now receive its fair, rightful an...</td>\n",
       "      <td>2019-11-04 16:08:30.000000</td>\n",
       "      <td>563</td>\n",
       "      <td>None</td>\n",
       "      <td>Twitter for iPhone</td>\n",
       "      <td>None</td>\n",
       "    </tr>\n",
       "    <tr>\n",
       "      <td>4</td>\n",
       "      <td>189</td>\n",
       "      <td>Now, a month later, we have together with the ...</td>\n",
       "      <td>2019-11-04 15:54:45.000000</td>\n",
       "      <td>708</td>\n",
       "      <td>None</td>\n",
       "      <td>Twitter for iPhone</td>\n",
       "      <td>None</td>\n",
       "    </tr>\n",
       "  </tbody>\n",
       "</table>\n",
       "</div>"
      ],
      "text/plain": [
       "   retweet_count                                               text  \\\n",
       "0            184  Today marks a new and beneficial relationship ...   \n",
       "1            189  Today this changes. For the first time under o...   \n",
       "2            140  All attempts to amend the law on the distribut...   \n",
       "3            203  Nigeria will now receive its fair, rightful an...   \n",
       "4            189  Now, a month later, we have together with the ...   \n",
       "\n",
       "                   created_at  favourite_count hashtags       source_device  \\\n",
       "0  2019-11-04 16:11:56.000000              694     None  Twitter for iPhone   \n",
       "1  2019-11-04 16:11:39.000000              648     None  Twitter for iPhone   \n",
       "2  2019-11-04 16:10:14.000000              428     None  Twitter for iPhone   \n",
       "3  2019-11-04 16:08:30.000000              563     None  Twitter for iPhone   \n",
       "4  2019-11-04 15:54:45.000000              708     None  Twitter for iPhone   \n",
       "\n",
       "  retweet_text  \n",
       "0         None  \n",
       "1         None  \n",
       "2         None  \n",
       "3         None  \n",
       "4         None  "
      ]
     },
     "execution_count": 13,
     "metadata": {},
     "output_type": "execute_result"
    }
   ],
   "source": [
    "data.head()"
   ]
  },
  {
   "cell_type": "code",
   "execution_count": 14,
   "metadata": {},
   "outputs": [],
   "source": [
    "data.loc[data.text.str.startswith('RT'), 'text'] = data.loc[data.text.str.startswith('RT'), 'retweet_text'] #Replaces truncated RT tweets with the full_text from retweet_text"
   ]
  },
  {
   "cell_type": "code",
   "execution_count": 15,
   "metadata": {},
   "outputs": [
    {
     "data": {
      "text/plain": [
       "0"
      ]
     },
     "execution_count": 15,
     "metadata": {},
     "output_type": "execute_result"
    }
   ],
   "source": [
    "data.text.str.startswith(\"RT\").sum()"
   ]
  },
  {
   "cell_type": "code",
   "execution_count": 16,
   "metadata": {},
   "outputs": [
    {
     "data": {
      "text/plain": [
       "{263: 'FURTHER UPDATES: \\n\\n1/ Minister of Foreign Affairs @GeoffreyOnyeama has summoned the SA High Commissioner to Nigeria.\\n\\n2/ Next month President Buhari will Visit South Africa and meet with Pres @CyrilRamaphosa. Top on Agenda will be guaranteeing safety of ALL Nigerians in SA. https://t.co/RMoFkm0Bqz',\n",
       " 1059: 'A Police Special investigation Team, comprising the Intelligence Response Team (IRT), Special Tactical Squad (STS) and Tactical Intelligence Unit (TIU), led by Commissioner of Police, IGP Monitoring Unit, have already been deployed to Plateau State &amp; have commenced investigation.',\n",
       " 1270: 'The President believes that the Economic and security implications of Nigeria signing the #AfCFTA Agreement need to be FURTHER discussed. This is a far-reaching decision that requires the widest possible consultations amongst all stakeholders.',\n",
       " 1408: 'PRESIDENT ORDERS IGP TO MOVE TO BENUE STATE TO RESTORE LAW AND ORDER AND PREVENT FURTHER LOSS OF LIVES AND ATTACKS IN GUMA AND LOGO LGAS OF THE STATE',\n",
       " 1611: '@MBuhari On Trade &amp; Investment, Pres @MBuhari &amp; @RT_Erdogan outlined ways to increase the size of trade &amp; investment btw both countries #PMBinTurkey',\n",
       " 1890: \"VP @ProfOsinbajo: We're investing in tech hubs across Nigeria. We're also training &gt;25,000 in digital skills: animation, software devpt,etc https://t.co/dSJkvH6RTk\",\n",
       " 2101: \"WATCH: PART 2: Vice President @ProfOsinbajo's meeting with Artisans and Auto Mechanics in Mpape, Abuja, on Thursday Dec 22. https://t.co/PGqGXw68hB\",\n",
       " 2164: \"Hospitals where blood donations are needed in Uyo, Akwa Ibom. Please RT. If you're in the area please consider donating blood. https://t.co/sG2ktOCkB1\",\n",
       " 2650: '#March4Buhari 26\\n2 days until #NigeriaDecides\\nRT to show your support for Team #GMB15\\n#iWillVoteAPC #SocialMedia http://t.co/5tvTHLZanM',\n",
       " 2776: '#March4Buhari 23:\\nWhere will you press your hand?\\nAs for me, #iWillVoteAPC as #NigeriaDecides. RT if you will too! http://t.co/0zysu3XO9s',\n",
       " 2972: '#CampaignTrail Campaign DG Gov. #RotimiAmaechi emphasizes the #Change message http://t.co/yd6OphSRT9'}"
      ]
     },
     "execution_count": 16,
     "metadata": {},
     "output_type": "execute_result"
    }
   ],
   "source": [
    "data.loc[data.text.str.contains(\"RT\")].text.to_dict()"
   ]
  },
  {
   "cell_type": "markdown",
   "metadata": {},
   "source": [
    "So it looks like we don't have any more RT tags and there is no need to write a regex to remove it. "
   ]
  },
  {
   "cell_type": "code",
   "execution_count": 17,
   "metadata": {},
   "outputs": [
    {
     "data": {
      "text/plain": [
       "{1787: \"Today's ratification of Agreements is an important step, in line with the delivery of our Anti-Corruption &amp; Economic Diversification Vision https://t.co/EORVGTGasf\",\n",
       " 677: 'We must not allow the enemies of the region to succeed in their quest to destabilize the area. We must reinvigorate our collective will &amp; commitment towards eradicating terrorism from our region. We must &amp; will remain focused and true to ensuring sustainable peace and development',\n",
       " 1987: 'I congratulate Chief Adebisi Akande, elder statesman &amp; founding Interim Chairman of our All Progressives Congress,on his 78th birthday today https://t.co/n3iEiVJ5SO',\n",
       " 1880: \"We've reached out to the captors &amp; are negotiating to ensure the girls' safe release. We're willing to bend over backwards to achieve this.\",\n",
       " 3040: 'Join us as we head to the polls.\\nhttps://t.co/YVEoAQSB4I\"ref\"%3A98%7D&amp;aref=98&amp;ref=bookmark\\n#GMB15'}"
      ]
     },
     "execution_count": 17,
     "metadata": {},
     "output_type": "execute_result"
    }
   ],
   "source": [
    "data.loc[data.text.str.contains(\"&amp\")].text.sample(n=5).to_dict() #to check for &amp tags"
   ]
  },
  {
   "cell_type": "code",
   "execution_count": 18,
   "metadata": {},
   "outputs": [],
   "source": [
    "from appos import appos \n",
    "# discovered it online also! exciting. \n",
    "\n",
    "# custom function that expands contractions such as \"I'm\"\n",
    "def expander(x):\n",
    "    reformed = x.lower().split()\n",
    "    reformed = [appos[word] if word in appos else word for word in reformed]\n",
    "    reformed = \" \".join(reformed)\n",
    "    return reformed \n",
    "\n",
    "data.text = data.text.apply(lambda x: expander(x))"
   ]
  },
  {
   "cell_type": "code",
   "execution_count": 19,
   "metadata": {},
   "outputs": [
    {
     "data": {
      "text/plain": [
       "{833: 'nigeria continues to call on the israelis and the palestinians to make the necessary compromises in the interest of justice, peace and security, in line with our numerous un resolutions and applicable international laws.',\n",
       " 1682: 'state house press release: pres @mbuhari thanks jordan for donation of military hardware in support of fight against terrorism #ngainunga https://t.co/ljmc5tswhc',\n",
       " 364: 'https://t.co/uhvqgnkzyb',\n",
       " 865: 'hon. amaechi was the director general of the buhari-osinbajo presidential campaign committee in 2014-2015 that won the elections and brought the current administration into office.',\n",
       " 1312: 'this morning at the state house, president @mbuhari will preside over a meeting on the presidential fertilizer initiative (pfi). meeting will bring together government officials and the private sector (investors, senior execs of fertilizer companies and financial institutions).'}"
      ]
     },
     "execution_count": 19,
     "metadata": {},
     "output_type": "execute_result"
    }
   ],
   "source": [
    "#to make it easy to see \n",
    "#sample to randomise selection so that we can monitor changes we make w/o loading the entire Series\n",
    "data.text.sample(n=5).to_dict()  "
   ]
  },
  {
   "cell_type": "markdown",
   "metadata": {},
   "source": [
    "After running this multiple times, it's clear we need to deal with:\n",
    "* URLS\n",
    "* username-tags\n",
    "* html tags \n",
    "* punctuation\n",
    "* Named Entities"
   ]
  },
  {
   "cell_type": "code",
   "execution_count": 20,
   "metadata": {},
   "outputs": [],
   "source": [
    "import re\n",
    "import string"
   ]
  },
  {
   "cell_type": "code",
   "execution_count": 21,
   "metadata": {},
   "outputs": [],
   "source": [
    "#Custom function to lower case of text and clean some entities\n",
    "def clean_text(x):\n",
    "    x = x.lower()\n",
    "    x = re.sub(\"&amp\", '', x) #replace &amp tags\n",
    "    x = re.sub(r'@[A-Z0-9a-z_:]+', '', x) # replaces username-tags\n",
    "    x = re.sub('https?://[A-Za-z0-9./]+', '', x) #replaces URLs\n",
    "    x = re.sub(\"[^a-zA-Z]\", \" \", x) #replaces hashtags\n",
    "    x = re.sub(\"\\n\", \"\", x)\n",
    "    x = re.sub(\"{}\".format(re.escape(string.punctuation)), \"\", x)\n",
    "    return x"
   ]
  },
  {
   "cell_type": "code",
   "execution_count": 22,
   "metadata": {},
   "outputs": [],
   "source": [
    "data.text = data.text.apply(lambda x: clean_text(x))"
   ]
  },
  {
   "cell_type": "code",
   "execution_count": 23,
   "metadata": {},
   "outputs": [
    {
     "data": {
      "text/plain": [
       "{463: 'i mourn the passing of ambassador abiodun bashua and professor pius adesanmi in the ethiopian airlines plane crash which occurred yesterday  distinguished nigerians who did the nation proud in their professional endeavors ',\n",
       " 2006: 'i asked sp  to kindly represent me at the armed forces remembrance day jummat prayers  this afternoon at the national mosque',\n",
       " 2304: 'presidents of benin  chad  niger joined me at today s book launch  our regional partnership is one i value very much ',\n",
       " 404: 'i also recognize that we have a responsibility to improve the welfare of our police officers  as they daily put their lives on the line in order that the rest of us may freely go about our business in safety  police welfare remains one of the priorities of our administration ',\n",
       " 1231: 'i had a very productive meeting with president trump today at the white house  key issues discussed  security  anti corruption  trade  human rights  humanitarian read my speeches here  during working lunch  during press conference  '}"
      ]
     },
     "execution_count": 23,
     "metadata": {},
     "output_type": "execute_result"
    }
   ],
   "source": [
    "data.text.sample(n=5).to_dict()  #random samples to help us check our cleaned text"
   ]
  },
  {
   "cell_type": "code",
   "execution_count": 24,
   "metadata": {},
   "outputs": [],
   "source": [
    "data.created_at = pd.to_datetime(data.created_at)\n",
    "data['year'], data['month'] = data.created_at.dt.year, data.created_at.dt.month\n",
    "\n",
    "data.set_index('created_at', inplace=True) #make the timestamp the index of the dataframe\n",
    "data.sort_index(inplace=True)"
   ]
  },
  {
   "cell_type": "markdown",
   "metadata": {},
   "source": [
    "## Data Analysis "
   ]
  },
  {
   "cell_type": "code",
   "execution_count": 25,
   "metadata": {},
   "outputs": [],
   "source": [
    "from nltk.tokenize import word_tokenize \n",
    "\n",
    "data['tokens'] = data.text.apply(lambda x: word_tokenize(x))"
   ]
  },
  {
   "cell_type": "code",
   "execution_count": 26,
   "metadata": {},
   "outputs": [
    {
     "data": {
      "text/html": [
       "<div>\n",
       "<style scoped>\n",
       "    .dataframe tbody tr th:only-of-type {\n",
       "        vertical-align: middle;\n",
       "    }\n",
       "\n",
       "    .dataframe tbody tr th {\n",
       "        vertical-align: top;\n",
       "    }\n",
       "\n",
       "    .dataframe thead th {\n",
       "        text-align: right;\n",
       "    }\n",
       "</style>\n",
       "<table border=\"1\" class=\"dataframe\">\n",
       "  <thead>\n",
       "    <tr style=\"text-align: right;\">\n",
       "      <th></th>\n",
       "      <th>retweet_count</th>\n",
       "      <th>text</th>\n",
       "      <th>favourite_count</th>\n",
       "      <th>hashtags</th>\n",
       "      <th>source_device</th>\n",
       "      <th>retweet_text</th>\n",
       "      <th>year</th>\n",
       "      <th>month</th>\n",
       "      <th>tokens</th>\n",
       "    </tr>\n",
       "    <tr>\n",
       "      <th>created_at</th>\n",
       "      <th></th>\n",
       "      <th></th>\n",
       "      <th></th>\n",
       "      <th></th>\n",
       "      <th></th>\n",
       "      <th></th>\n",
       "      <th></th>\n",
       "      <th></th>\n",
       "      <th></th>\n",
       "    </tr>\n",
       "  </thead>\n",
       "  <tbody>\n",
       "    <tr>\n",
       "      <td>2015-02-08 19:05:18</td>\n",
       "      <td>583</td>\n",
       "      <td>my friends  i know many of you have waited for...</td>\n",
       "      <td>56</td>\n",
       "      <td>None</td>\n",
       "      <td>Twitter Web Client</td>\n",
       "      <td>None</td>\n",
       "      <td>2015</td>\n",
       "      <td>2</td>\n",
       "      <td>[my, friends, i, know, many, of, you, have, wa...</td>\n",
       "    </tr>\n",
       "    <tr>\n",
       "      <td>2015-02-08 19:06:04</td>\n",
       "      <td>837</td>\n",
       "      <td>to be clear  the postponement is a fraudulent ...</td>\n",
       "      <td>83</td>\n",
       "      <td>None</td>\n",
       "      <td>Twitter Web Client</td>\n",
       "      <td>None</td>\n",
       "      <td>2015</td>\n",
       "      <td>2</td>\n",
       "      <td>[to, be, clear, the, postponement, is, a, frau...</td>\n",
       "    </tr>\n",
       "    <tr>\n",
       "      <td>2015-02-08 19:06:33</td>\n",
       "      <td>640</td>\n",
       "      <td>as a nigerian and a candidate in the elections...</td>\n",
       "      <td>62</td>\n",
       "      <td>None</td>\n",
       "      <td>Twitter Web Client</td>\n",
       "      <td>None</td>\n",
       "      <td>2015</td>\n",
       "      <td>2</td>\n",
       "      <td>[as, a, nigerian, and, a, candidate, in, the, ...</td>\n",
       "    </tr>\n",
       "    <tr>\n",
       "      <td>2015-02-08 19:06:53</td>\n",
       "      <td>751</td>\n",
       "      <td>but we must remain calm and peaceful  while re...</td>\n",
       "      <td>80</td>\n",
       "      <td>None</td>\n",
       "      <td>Twitter Web Client</td>\n",
       "      <td>None</td>\n",
       "      <td>2015</td>\n",
       "      <td>2</td>\n",
       "      <td>[but, we, must, remain, calm, and, peaceful, w...</td>\n",
       "    </tr>\n",
       "    <tr>\n",
       "      <td>2015-02-08 19:07:47</td>\n",
       "      <td>778</td>\n",
       "      <td>our country is going through difficult times i...</td>\n",
       "      <td>79</td>\n",
       "      <td>None</td>\n",
       "      <td>Twitter Web Client</td>\n",
       "      <td>None</td>\n",
       "      <td>2015</td>\n",
       "      <td>2</td>\n",
       "      <td>[our, country, is, going, through, difficult, ...</td>\n",
       "    </tr>\n",
       "  </tbody>\n",
       "</table>\n",
       "</div>"
      ],
      "text/plain": [
       "                     retweet_count  \\\n",
       "created_at                           \n",
       "2015-02-08 19:05:18            583   \n",
       "2015-02-08 19:06:04            837   \n",
       "2015-02-08 19:06:33            640   \n",
       "2015-02-08 19:06:53            751   \n",
       "2015-02-08 19:07:47            778   \n",
       "\n",
       "                                                                  text  \\\n",
       "created_at                                                               \n",
       "2015-02-08 19:05:18  my friends  i know many of you have waited for...   \n",
       "2015-02-08 19:06:04  to be clear  the postponement is a fraudulent ...   \n",
       "2015-02-08 19:06:33  as a nigerian and a candidate in the elections...   \n",
       "2015-02-08 19:06:53  but we must remain calm and peaceful  while re...   \n",
       "2015-02-08 19:07:47  our country is going through difficult times i...   \n",
       "\n",
       "                     favourite_count hashtags       source_device  \\\n",
       "created_at                                                          \n",
       "2015-02-08 19:05:18               56     None  Twitter Web Client   \n",
       "2015-02-08 19:06:04               83     None  Twitter Web Client   \n",
       "2015-02-08 19:06:33               62     None  Twitter Web Client   \n",
       "2015-02-08 19:06:53               80     None  Twitter Web Client   \n",
       "2015-02-08 19:07:47               79     None  Twitter Web Client   \n",
       "\n",
       "                    retweet_text  year  month  \\\n",
       "created_at                                      \n",
       "2015-02-08 19:05:18         None  2015      2   \n",
       "2015-02-08 19:06:04         None  2015      2   \n",
       "2015-02-08 19:06:33         None  2015      2   \n",
       "2015-02-08 19:06:53         None  2015      2   \n",
       "2015-02-08 19:07:47         None  2015      2   \n",
       "\n",
       "                                                                tokens  \n",
       "created_at                                                              \n",
       "2015-02-08 19:05:18  [my, friends, i, know, many, of, you, have, wa...  \n",
       "2015-02-08 19:06:04  [to, be, clear, the, postponement, is, a, frau...  \n",
       "2015-02-08 19:06:33  [as, a, nigerian, and, a, candidate, in, the, ...  \n",
       "2015-02-08 19:06:53  [but, we, must, remain, calm, and, peaceful, w...  \n",
       "2015-02-08 19:07:47  [our, country, is, going, through, difficult, ...  "
      ]
     },
     "execution_count": 26,
     "metadata": {},
     "output_type": "execute_result"
    }
   ],
   "source": [
    "data.head()"
   ]
  },
  {
   "cell_type": "markdown",
   "metadata": {},
   "source": [
    "## Analysis of Word Use"
   ]
  },
  {
   "cell_type": "code",
   "execution_count": 27,
   "metadata": {},
   "outputs": [],
   "source": [
    "import matplotlib.pyplot as plt\n",
    "import seaborn as sns; sns.set()\n",
    "\n",
    "%matplotlib inline"
   ]
  },
  {
   "cell_type": "markdown",
   "metadata": {},
   "source": [
    "### 1. Without removing stopwords"
   ]
  },
  {
   "cell_type": "code",
   "execution_count": 28,
   "metadata": {},
   "outputs": [
    {
     "name": "stdout",
     "output_type": "stream",
     "text": [
      "[('the', 5342), ('to', 3057), ('of', 3032), ('and', 2592), ('in', 1754), ('i', 1231), ('we', 1139), ('a', 1091), ('for', 1002), ('our', 965), ('is', 847), ('will', 788), ('that', 777), ('on', 701), ('nigeria', 679), ('with', 614), ('this', 595), ('are', 535), ('as', 516), ('have', 511), ('all', 508), ('be', 441), ('by', 411), ('president', 403), ('s', 392), ('state', 369), ('at', 356), ('today', 349), ('you', 348), ('not', 347), ('it', 324), ('from', 318), ('their', 297), ('my', 293), ('has', 271), ('nigerians', 239), ('also', 237), ('gmb', 227), ('security', 227), ('campaigntrail', 225), ('people', 223), ('government', 209), ('who', 198), ('us', 193), ('his', 185), ('can', 176), ('me', 174), ('was', 173), ('continue', 170), ('country', 168)]\n"
     ]
    },
    {
     "data": {
      "image/png": "[encoded data removed]",
      "text/plain": [
       "<Figure size 432x288 with 1 Axes>"
      ]
     },
     "metadata": {
      "needs_background": "light"
     },
     "output_type": "display_data"
    },
    {
     "data": {
      "text/plain": [
       "<matplotlib.axes._subplots.AxesSubplot at 0x207ddc2bec8>"
      ]
     },
     "execution_count": 28,
     "metadata": {},
     "output_type": "execute_result"
    }
   ],
   "source": [
    "x = []\n",
    "\n",
    "for token in data.tokens:\n",
    "    x += token\n",
    "    \n",
    "from nltk.probability import FreqDist\n",
    "freq_distr = FreqDist(x)\n",
    "\n",
    "print(freq_distr.most_common(50))\n",
    "\n",
    "freq_distr.plot(20, cumulative=False)"
   ]
  },
  {
   "cell_type": "markdown",
   "metadata": {},
   "source": [
    "### 2. Removing stop words"
   ]
  },
  {
   "cell_type": "code",
   "execution_count": 29,
   "metadata": {},
   "outputs": [],
   "source": [
    "from nltk.corpus import stopwords\n",
    "\n",
    "stop_words = set(stopwords.words('english'))\n",
    "swBuhari = [\"nigeria\", \"country\", \"state\", \"nigerians\", \"gmb\", \"president\", \n",
    "            \"pres\", \"nigerian\", \"buhari\", \"today\", \"also\", \"government\"]\n",
    "\n",
    "stop_words.update(swBuhari)\n",
    "\n",
    "#map lists in each row to a new list where stop_words have been removed using list comprehension\n",
    "data['tokens_wo_sw'] = data.tokens.apply(lambda x: \n",
    "                                         [word for word in x if word.lower() not in stop_words])"
   ]
  },
  {
   "cell_type": "code",
   "execution_count": 30,
   "metadata": {},
   "outputs": [
    {
     "name": "stdout",
     "output_type": "stream",
     "text": [
      "[('security', 227), ('campaigntrail', 225), ('people', 223), ('us', 193), ('continue', 170), ('change', 155), ('must', 153), ('national', 146), ('one', 139), ('work', 131), ('support', 128), ('new', 128), ('ensure', 127), ('peace', 114), ('meeting', 114), ('let', 113), ('corruption', 109), ('economic', 108), ('years', 106), ('time', 105), ('abuja', 104), ('power', 102), ('thank', 99), ('world', 98), ('administration', 98), ('federal', 97), ('year', 96), ('infrastructure', 95), ('days', 90), ('africa', 90), ('apc', 87), ('efforts', 85), ('states', 85), ('may', 85), ('nation', 84), ('house', 84), ('party', 84), ('day', 82), ('make', 80), ('development', 80), ('god', 78), ('kaduna', 76), ('economy', 74), ('across', 73), ('general', 73), ('presidential', 72), ('commitment', 72), ('many', 71), ('take', 71), ('projects', 71)]\n"
     ]
    },
    {
     "data": {
      "image/png": "[encoded data removed]",
      "text/plain": [
       "<Figure size 432x288 with 1 Axes>"
      ]
     },
     "metadata": {
      "needs_background": "light"
     },
     "output_type": "display_data"
    },
    {
     "data": {
      "text/plain": [
       "<matplotlib.axes._subplots.AxesSubplot at 0x207e03116c8>"
      ]
     },
     "execution_count": 30,
     "metadata": {},
     "output_type": "execute_result"
    }
   ],
   "source": [
    "y = []\n",
    "\n",
    "for token in data.tokens_wo_sw:\n",
    "    y += token\n",
    "    \n",
    "from nltk.probability import FreqDist\n",
    "freq_distrib = FreqDist(y)\n",
    "\n",
    "print(freq_distrib.most_common(50))\n",
    "\n",
    "freq_distrib.plot(20, cumulative=False)"
   ]
  },
  {
   "cell_type": "markdown",
   "metadata": {},
   "source": [
    "## Word Use by Device"
   ]
  },
  {
   "cell_type": "code",
   "execution_count": 31,
   "metadata": {},
   "outputs": [],
   "source": [
    "def pop_words_by_device(data, device,  remove_stopwords=True, \n",
    "                        most_common_show=10, most_common_plot=15, \n",
    "                        cumulative=False):\n",
    "    \"\"\"\n",
    "    This func checks the specified number of most \n",
    "    common words \n",
    "    when particular devices are used to tweet\n",
    "    \n",
    "    Parameters:\n",
    "    -----------\n",
    "    * data - the dataframe to be used. text \n",
    "    should have been cleaned/processed\n",
    "    * device - the device to be checked against. \n",
    "    Must be str\n",
    "    * cumulative - defaults to False. If True, Freq \n",
    "    Dist plot of common words uses cumulative freq\n",
    "    \n",
    "    Returns:\n",
    "    --------\n",
    "    A list of most common words & a plot of their frequencies. \n",
    "    \"\"\"\n",
    "    \n",
    "    temp = data.loc[data.source_device == device]\n",
    "    print(\"{}: {} tweets\\n\".format(device, temp.shape[0]))\n",
    "    print(\"This device tweeted {:02f}% of all Buhari's tweets\".format(\n",
    "                                    100 * len(temp) / len(data) ), \"\\n\")\n",
    "    print(\"Min date: {}\".format(temp.index.min()))\n",
    "    print(\"Max date: {}\".format(temp.index.max()), \"\\n\")\n",
    "    \n",
    "        \n",
    "    y = []\n",
    "    \n",
    "    if remove_stopwords:\n",
    "        for token in temp.tokens_wo_sw:\n",
    "            y += token\n",
    "    else:\n",
    "        for token in temp.tokens:\n",
    "            y += token\n",
    "        \n",
    "    freq_distrib = FreqDist(y)\n",
    "\n",
    "    print(freq_distrib.most_common(most_common_show))\n",
    "\n",
    "    freq_distrib.plot(most_common_plot, cumulative=False)\n",
    "    print(\"\\n\")"
   ]
  },
  {
   "cell_type": "code",
   "execution_count": 32,
   "metadata": {},
   "outputs": [
    {
     "name": "stdout",
     "output_type": "stream",
     "text": [
      "Twitter Web Client: 522 tweets\n",
      "\n",
      "This device tweeted 16.086287% of all Buhari's tweets \n",
      "\n",
      "Min date: 2015-02-08 19:05:18\n",
      "Max date: 2017-03-13 13:21:02 \n",
      "\n",
      "[('campaigntrail', 120), ('change', 66), ('days', 40), ('tellyourneighbour', 39), ('march', 36), ('iwillvoteapc', 28), ('abuja', 26), ('socialmedia', 24), ('apc', 23), ('security', 22)]\n"
     ]
    },
    {
     "data": {
      "image/png": "[encoded data removed]",
      "text/plain": [
       "<Figure size 432x288 with 1 Axes>"
      ]
     },
     "metadata": {
      "needs_background": "light"
     },
     "output_type": "display_data"
    },
    {
     "name": "stdout",
     "output_type": "stream",
     "text": [
      "\n",
      "\n",
      "Twitter for BlackBerry: 140 tweets\n",
      "\n",
      "This device tweeted 4.314330% of all Buhari's tweets \n",
      "\n",
      "Min date: 2015-02-09 09:37:48\n",
      "Max date: 2015-08-04 14:42:51 \n",
      "\n",
      "[('campaigntrail', 74), ('gmbchatamhouse', 26), ('change', 21), ('women', 16), ('iwillvoteapc', 14), ('londonsayssaibuhari', 14), ('days', 13), ('march', 11), ('thingswillchange', 11), ('socialmedia', 10)]\n"
     ]
    },
    {
     "data": {
      "image/png": "[encoded data removed]",
      "text/plain": [
       "<Figure size 432x288 with 1 Axes>"
      ]
     },
     "metadata": {
      "needs_background": "light"
     },
     "output_type": "display_data"
    },
    {
     "name": "stdout",
     "output_type": "stream",
     "text": [
      "\n",
      "\n",
      "Twitter for Android Tablets: 81 tweets\n",
      "\n",
      "This device tweeted 2.496148% of all Buhari's tweets \n",
      "\n",
      "Min date: 2015-02-28 19:38:32\n",
      "Max date: 2015-03-25 18:21:14 \n",
      "\n",
      "[('campaigntrail', 31), ('bauchi', 22), ('tellyourneighbour', 16), ('change', 14), ('owerri', 11), ('iwillvoteapc', 9), ('days', 8), ('march', 8), ('socialmedia', 7), ('crowd', 7)]\n"
     ]
    },
    {
     "data": {
      "image/png": "[encoded data removed]",
      "text/plain": [
       "<Figure size 432x288 with 1 Axes>"
      ]
     },
     "metadata": {
      "needs_background": "light"
     },
     "output_type": "display_data"
    },
    {
     "name": "stdout",
     "output_type": "stream",
     "text": [
      "\n",
      "\n",
      "Thunderclap: 1 tweets\n",
      "\n",
      "This device tweeted 0.030817% of all Buhari's tweets \n",
      "\n",
      "Min date: 2015-03-26 20:31:37\n",
      "Max date: 2015-03-26 20:31:37 \n",
      "\n",
      "[('nigeriadecides', 1), ('iwillvoteapc', 1), ('positive', 1), ('change', 1), ('read', 1)]\n"
     ]
    },
    {
     "data": {
      "image/png": "[encoded data removed]",
      "text/plain": [
       "<Figure size 432x288 with 1 Axes>"
      ]
     },
     "metadata": {
      "needs_background": "light"
     },
     "output_type": "display_data"
    },
    {
     "name": "stdout",
     "output_type": "stream",
     "text": [
      "\n",
      "\n",
      "WriteRack: 103 tweets\n",
      "\n",
      "This device tweeted 3.174114% of all Buhari's tweets \n",
      "\n",
      "Min date: 2015-03-26 22:03:48\n",
      "Max date: 2017-08-21 06:07:09 \n",
      "\n",
      "[('us', 9), ('time', 9), ('shall', 8), ('change', 7), ('let', 6), ('god', 6), ('campaign', 5), ('want', 5), ('building', 5), ('creating', 5)]\n"
     ]
    },
    {
     "data": {
      "image/png": "[encoded data removed]",
      "text/plain": [
       "<Figure size 432x288 with 1 Axes>"
      ]
     },
     "metadata": {
      "needs_background": "light"
     },
     "output_type": "display_data"
    },
    {
     "name": "stdout",
     "output_type": "stream",
     "text": [
      "\n",
      "\n",
      "Twitter for iPad: 22 tweets\n",
      "\n",
      "This device tweeted 0.677966% of all Buhari's tweets \n",
      "\n",
      "Min date: 2015-05-31 21:39:42\n",
      "Max date: 2016-09-20 22:17:59 \n",
      "\n",
      "[('fight', 5), ('pacacjudges', 5), ('corruption', 4), ('mallam', 3), ('support', 3), ('mr', 2), ('femi', 2), ('adesina', 2), ('garba', 2), ('shehu', 2)]\n"
     ]
    },
    {
     "data": {
      "image/png": "[encoded data removed]",
      "text/plain": [
       "<Figure size 432x288 with 1 Axes>"
      ]
     },
     "metadata": {
      "needs_background": "light"
     },
     "output_type": "display_data"
    },
    {
     "name": "stdout",
     "output_type": "stream",
     "text": [
      "\n",
      "\n",
      "Twitter for iPhone: 2369 tweets\n",
      "\n",
      "This device tweeted 73.004622% of all Buhari's tweets \n",
      "\n",
      "Min date: 2016-06-14 07:00:28\n",
      "Max date: 2019-11-04 16:11:56 \n",
      "\n",
      "[('security', 198), ('people', 192), ('continue', 156), ('us', 149), ('must', 138), ('national', 132), ('one', 123), ('work', 118), ('ensure', 118), ('new', 115)]\n"
     ]
    },
    {
     "data": {
      "image/png": "[encoded data removed]",
      "text/plain": [
       "<Figure size 432x288 with 1 Axes>"
      ]
     },
     "metadata": {
      "needs_background": "light"
     },
     "output_type": "display_data"
    },
    {
     "name": "stdout",
     "output_type": "stream",
     "text": [
      "\n",
      "\n",
      "Twitter Media Studio: 7 tweets\n",
      "\n",
      "This device tweeted 0.215716% of all Buhari's tweets \n",
      "\n",
      "Min date: 2016-10-10 18:01:24\n",
      "Max date: 2019-03-06 16:13:53 \n",
      "\n",
      "[('nes', 2), ('economy', 2), ('made', 2), ('agriculture', 2), ('young', 2), ('people', 2), ('declared', 1), ('open', 1), ('morning', 1), ('address', 1)]\n"
     ]
    },
    {
     "data": {
      "image/png": "[encoded data removed]",
      "text/plain": [
       "<Figure size 432x288 with 1 Axes>"
      ]
     },
     "metadata": {
      "needs_background": "light"
     },
     "output_type": "display_data"
    },
    {
     "name": "stdout",
     "output_type": "stream",
     "text": [
      "\n",
      "\n"
     ]
    }
   ],
   "source": [
    "for device in data.source_device.unique():\n",
    "    pop_words_by_device(data, device)"
   ]
  },
  {
   "cell_type": "markdown",
   "metadata": {},
   "source": [
    "## Sentiment Analysis"
   ]
  },
  {
   "cell_type": "code",
   "execution_count": 33,
   "metadata": {},
   "outputs": [],
   "source": [
    "from nltk.sentiment.vader import SentimentIntensityAnalyzer as SIA\n",
    "analyzer = SIA()\n",
    "\n",
    "def sentiment_analyzer(data, column, analyzer):\n",
    "    sentiment_ = data[str(column)].apply(lambda x: analyzer.polarity_scores(x))\n",
    "    data = pd.concat([data, sentiment_.apply(pd.Series)], 1)\n",
    "    return data"
   ]
  },
  {
   "cell_type": "code",
   "execution_count": 34,
   "metadata": {},
   "outputs": [
    {
     "data": {
      "text/html": [
       "<div>\n",
       "<style scoped>\n",
       "    .dataframe tbody tr th:only-of-type {\n",
       "        vertical-align: middle;\n",
       "    }\n",
       "\n",
       "    .dataframe tbody tr th {\n",
       "        vertical-align: top;\n",
       "    }\n",
       "\n",
       "    .dataframe thead th {\n",
       "        text-align: right;\n",
       "    }\n",
       "</style>\n",
       "<table border=\"1\" class=\"dataframe\">\n",
       "  <thead>\n",
       "    <tr style=\"text-align: right;\">\n",
       "      <th></th>\n",
       "      <th>retweet_count</th>\n",
       "      <th>text</th>\n",
       "      <th>favourite_count</th>\n",
       "      <th>hashtags</th>\n",
       "      <th>source_device</th>\n",
       "      <th>retweet_text</th>\n",
       "      <th>year</th>\n",
       "      <th>month</th>\n",
       "      <th>tokens</th>\n",
       "      <th>tokens_wo_sw</th>\n",
       "      <th>neg</th>\n",
       "      <th>neu</th>\n",
       "      <th>pos</th>\n",
       "      <th>compound</th>\n",
       "    </tr>\n",
       "    <tr>\n",
       "      <th>created_at</th>\n",
       "      <th></th>\n",
       "      <th></th>\n",
       "      <th></th>\n",
       "      <th></th>\n",
       "      <th></th>\n",
       "      <th></th>\n",
       "      <th></th>\n",
       "      <th></th>\n",
       "      <th></th>\n",
       "      <th></th>\n",
       "      <th></th>\n",
       "      <th></th>\n",
       "      <th></th>\n",
       "      <th></th>\n",
       "    </tr>\n",
       "  </thead>\n",
       "  <tbody>\n",
       "    <tr>\n",
       "      <td>2015-02-08 19:05:18</td>\n",
       "      <td>583</td>\n",
       "      <td>my friends  i know many of you have waited for...</td>\n",
       "      <td>56</td>\n",
       "      <td>None</td>\n",
       "      <td>Twitter Web Client</td>\n",
       "      <td>None</td>\n",
       "      <td>2015</td>\n",
       "      <td>2</td>\n",
       "      <td>[my, friends, i, know, many, of, you, have, wa...</td>\n",
       "      <td>[friends, know, many, waited, speak, postponem...</td>\n",
       "      <td>0.000</td>\n",
       "      <td>0.853</td>\n",
       "      <td>0.147</td>\n",
       "      <td>0.4767</td>\n",
       "    </tr>\n",
       "    <tr>\n",
       "      <td>2015-02-08 19:06:04</td>\n",
       "      <td>837</td>\n",
       "      <td>to be clear  the postponement is a fraudulent ...</td>\n",
       "      <td>83</td>\n",
       "      <td>None</td>\n",
       "      <td>Twitter Web Client</td>\n",
       "      <td>None</td>\n",
       "      <td>2015</td>\n",
       "      <td>2</td>\n",
       "      <td>[to, be, clear, the, postponement, is, a, frau...</td>\n",
       "      <td>[clear, postponement, fraudulent, attempt, sub...</td>\n",
       "      <td>0.134</td>\n",
       "      <td>0.627</td>\n",
       "      <td>0.239</td>\n",
       "      <td>0.3664</td>\n",
       "    </tr>\n",
       "    <tr>\n",
       "      <td>2015-02-08 19:06:33</td>\n",
       "      <td>640</td>\n",
       "      <td>as a nigerian and a candidate in the elections...</td>\n",
       "      <td>62</td>\n",
       "      <td>None</td>\n",
       "      <td>Twitter Web Client</td>\n",
       "      <td>None</td>\n",
       "      <td>2015</td>\n",
       "      <td>2</td>\n",
       "      <td>[as, a, nigerian, and, a, candidate, in, the, ...</td>\n",
       "      <td>[candidate, elections, share, disappointment, ...</td>\n",
       "      <td>0.296</td>\n",
       "      <td>0.602</td>\n",
       "      <td>0.102</td>\n",
       "      <td>-0.6369</td>\n",
       "    </tr>\n",
       "    <tr>\n",
       "      <td>2015-02-08 19:06:53</td>\n",
       "      <td>751</td>\n",
       "      <td>but we must remain calm and peaceful  while re...</td>\n",
       "      <td>80</td>\n",
       "      <td>None</td>\n",
       "      <td>Twitter Web Client</td>\n",
       "      <td>None</td>\n",
       "      <td>2015</td>\n",
       "      <td>2</td>\n",
       "      <td>[but, we, must, remain, calm, and, peaceful, w...</td>\n",
       "      <td>[must, remain, calm, peaceful, resolute, allow...</td>\n",
       "      <td>0.310</td>\n",
       "      <td>0.392</td>\n",
       "      <td>0.298</td>\n",
       "      <td>-0.1025</td>\n",
       "    </tr>\n",
       "    <tr>\n",
       "      <td>2015-02-08 19:07:47</td>\n",
       "      <td>778</td>\n",
       "      <td>our country is going through difficult times i...</td>\n",
       "      <td>79</td>\n",
       "      <td>None</td>\n",
       "      <td>Twitter Web Client</td>\n",
       "      <td>None</td>\n",
       "      <td>2015</td>\n",
       "      <td>2</td>\n",
       "      <td>[our, country, is, going, through, difficult, ...</td>\n",
       "      <td>[going, difficult, times, hands, terrorists, a...</td>\n",
       "      <td>0.341</td>\n",
       "      <td>0.541</td>\n",
       "      <td>0.118</td>\n",
       "      <td>-0.8402</td>\n",
       "    </tr>\n",
       "  </tbody>\n",
       "</table>\n",
       "</div>"
      ],
      "text/plain": [
       "                     retweet_count  \\\n",
       "created_at                           \n",
       "2015-02-08 19:05:18            583   \n",
       "2015-02-08 19:06:04            837   \n",
       "2015-02-08 19:06:33            640   \n",
       "2015-02-08 19:06:53            751   \n",
       "2015-02-08 19:07:47            778   \n",
       "\n",
       "                                                                  text  \\\n",
       "created_at                                                               \n",
       "2015-02-08 19:05:18  my friends  i know many of you have waited for...   \n",
       "2015-02-08 19:06:04  to be clear  the postponement is a fraudulent ...   \n",
       "2015-02-08 19:06:33  as a nigerian and a candidate in the elections...   \n",
       "2015-02-08 19:06:53  but we must remain calm and peaceful  while re...   \n",
       "2015-02-08 19:07:47  our country is going through difficult times i...   \n",
       "\n",
       "                     favourite_count hashtags       source_device  \\\n",
       "created_at                                                          \n",
       "2015-02-08 19:05:18               56     None  Twitter Web Client   \n",
       "2015-02-08 19:06:04               83     None  Twitter Web Client   \n",
       "2015-02-08 19:06:33               62     None  Twitter Web Client   \n",
       "2015-02-08 19:06:53               80     None  Twitter Web Client   \n",
       "2015-02-08 19:07:47               79     None  Twitter Web Client   \n",
       "\n",
       "                    retweet_text  year  month  \\\n",
       "created_at                                      \n",
       "2015-02-08 19:05:18         None  2015      2   \n",
       "2015-02-08 19:06:04         None  2015      2   \n",
       "2015-02-08 19:06:33         None  2015      2   \n",
       "2015-02-08 19:06:53         None  2015      2   \n",
       "2015-02-08 19:07:47         None  2015      2   \n",
       "\n",
       "                                                                tokens  \\\n",
       "created_at                                                               \n",
       "2015-02-08 19:05:18  [my, friends, i, know, many, of, you, have, wa...   \n",
       "2015-02-08 19:06:04  [to, be, clear, the, postponement, is, a, frau...   \n",
       "2015-02-08 19:06:33  [as, a, nigerian, and, a, candidate, in, the, ...   \n",
       "2015-02-08 19:06:53  [but, we, must, remain, calm, and, peaceful, w...   \n",
       "2015-02-08 19:07:47  [our, country, is, going, through, difficult, ...   \n",
       "\n",
       "                                                          tokens_wo_sw    neg  \\\n",
       "created_at                                                                      \n",
       "2015-02-08 19:05:18  [friends, know, many, waited, speak, postponem...  0.000   \n",
       "2015-02-08 19:06:04  [clear, postponement, fraudulent, attempt, sub...  0.134   \n",
       "2015-02-08 19:06:33  [candidate, elections, share, disappointment, ...  0.296   \n",
       "2015-02-08 19:06:53  [must, remain, calm, peaceful, resolute, allow...  0.310   \n",
       "2015-02-08 19:07:47  [going, difficult, times, hands, terrorists, a...  0.341   \n",
       "\n",
       "                       neu    pos  compound  \n",
       "created_at                                   \n",
       "2015-02-08 19:05:18  0.853  0.147    0.4767  \n",
       "2015-02-08 19:06:04  0.627  0.239    0.3664  \n",
       "2015-02-08 19:06:33  0.602  0.102   -0.6369  \n",
       "2015-02-08 19:06:53  0.392  0.298   -0.1025  \n",
       "2015-02-08 19:07:47  0.541  0.118   -0.8402  "
      ]
     },
     "execution_count": 34,
     "metadata": {},
     "output_type": "execute_result"
    }
   ],
   "source": [
    "data = sentiment_analyzer(data, 'text', analyzer)\n",
    "data.head()"
   ]
  },
  {
   "cell_type": "code",
   "execution_count": 35,
   "metadata": {},
   "outputs": [
    {
     "data": {
      "text/html": [
       "<div>\n",
       "<style scoped>\n",
       "    .dataframe tbody tr th:only-of-type {\n",
       "        vertical-align: middle;\n",
       "    }\n",
       "\n",
       "    .dataframe tbody tr th {\n",
       "        vertical-align: top;\n",
       "    }\n",
       "\n",
       "    .dataframe thead th {\n",
       "        text-align: right;\n",
       "    }\n",
       "</style>\n",
       "<table border=\"1\" class=\"dataframe\">\n",
       "  <thead>\n",
       "    <tr style=\"text-align: right;\">\n",
       "      <th></th>\n",
       "      <th>neg</th>\n",
       "      <th>neu</th>\n",
       "      <th>pos</th>\n",
       "      <th>compound</th>\n",
       "    </tr>\n",
       "  </thead>\n",
       "  <tbody>\n",
       "    <tr>\n",
       "      <td>count</td>\n",
       "      <td>3245.000000</td>\n",
       "      <td>3245.000000</td>\n",
       "      <td>3245.000000</td>\n",
       "      <td>3245.000000</td>\n",
       "    </tr>\n",
       "    <tr>\n",
       "      <td>mean</td>\n",
       "      <td>0.046473</td>\n",
       "      <td>0.796907</td>\n",
       "      <td>0.148598</td>\n",
       "      <td>0.291418</td>\n",
       "    </tr>\n",
       "    <tr>\n",
       "      <td>std</td>\n",
       "      <td>0.083405</td>\n",
       "      <td>0.161681</td>\n",
       "      <td>0.133134</td>\n",
       "      <td>0.473833</td>\n",
       "    </tr>\n",
       "    <tr>\n",
       "      <td>min</td>\n",
       "      <td>0.000000</td>\n",
       "      <td>0.000000</td>\n",
       "      <td>0.000000</td>\n",
       "      <td>-0.974400</td>\n",
       "    </tr>\n",
       "    <tr>\n",
       "      <td>25%</td>\n",
       "      <td>0.000000</td>\n",
       "      <td>0.698000</td>\n",
       "      <td>0.000000</td>\n",
       "      <td>0.000000</td>\n",
       "    </tr>\n",
       "    <tr>\n",
       "      <td>50%</td>\n",
       "      <td>0.000000</td>\n",
       "      <td>0.805000</td>\n",
       "      <td>0.136000</td>\n",
       "      <td>0.361200</td>\n",
       "    </tr>\n",
       "    <tr>\n",
       "      <td>75%</td>\n",
       "      <td>0.073000</td>\n",
       "      <td>0.917000</td>\n",
       "      <td>0.231000</td>\n",
       "      <td>0.709600</td>\n",
       "    </tr>\n",
       "    <tr>\n",
       "      <td>max</td>\n",
       "      <td>0.548000</td>\n",
       "      <td>1.000000</td>\n",
       "      <td>0.778000</td>\n",
       "      <td>0.984300</td>\n",
       "    </tr>\n",
       "  </tbody>\n",
       "</table>\n",
       "</div>"
      ],
      "text/plain": [
       "               neg          neu          pos     compound\n",
       "count  3245.000000  3245.000000  3245.000000  3245.000000\n",
       "mean      0.046473     0.796907     0.148598     0.291418\n",
       "std       0.083405     0.161681     0.133134     0.473833\n",
       "min       0.000000     0.000000     0.000000    -0.974400\n",
       "25%       0.000000     0.698000     0.000000     0.000000\n",
       "50%       0.000000     0.805000     0.136000     0.361200\n",
       "75%       0.073000     0.917000     0.231000     0.709600\n",
       "max       0.548000     1.000000     0.778000     0.984300"
      ]
     },
     "execution_count": 35,
     "metadata": {},
     "output_type": "execute_result"
    }
   ],
   "source": [
    "data[['neg', 'neu', 'pos', 'compound']].describe()"
   ]
  },
  {
   "cell_type": "code",
   "execution_count": 36,
   "metadata": {},
   "outputs": [],
   "source": [
    "data['mean_sentiment'] = data['compound'].expanding().mean()"
   ]
  },
  {
   "cell_type": "code",
   "execution_count": 37,
   "metadata": {},
   "outputs": [
    {
     "data": {
      "text/html": [
       "<div>\n",
       "<style scoped>\n",
       "    .dataframe tbody tr th:only-of-type {\n",
       "        vertical-align: middle;\n",
       "    }\n",
       "\n",
       "    .dataframe tbody tr th {\n",
       "        vertical-align: top;\n",
       "    }\n",
       "\n",
       "    .dataframe thead th {\n",
       "        text-align: right;\n",
       "    }\n",
       "</style>\n",
       "<table border=\"1\" class=\"dataframe\">\n",
       "  <thead>\n",
       "    <tr style=\"text-align: right;\">\n",
       "      <th></th>\n",
       "      <th>retweet_count</th>\n",
       "      <th>text</th>\n",
       "      <th>favourite_count</th>\n",
       "      <th>hashtags</th>\n",
       "      <th>source_device</th>\n",
       "      <th>retweet_text</th>\n",
       "      <th>year</th>\n",
       "      <th>month</th>\n",
       "      <th>tokens</th>\n",
       "      <th>tokens_wo_sw</th>\n",
       "      <th>neg</th>\n",
       "      <th>neu</th>\n",
       "      <th>pos</th>\n",
       "      <th>compound</th>\n",
       "      <th>mean_sentiment</th>\n",
       "      <th>rolling_sentiment</th>\n",
       "    </tr>\n",
       "    <tr>\n",
       "      <th>created_at</th>\n",
       "      <th></th>\n",
       "      <th></th>\n",
       "      <th></th>\n",
       "      <th></th>\n",
       "      <th></th>\n",
       "      <th></th>\n",
       "      <th></th>\n",
       "      <th></th>\n",
       "      <th></th>\n",
       "      <th></th>\n",
       "      <th></th>\n",
       "      <th></th>\n",
       "      <th></th>\n",
       "      <th></th>\n",
       "      <th></th>\n",
       "      <th></th>\n",
       "    </tr>\n",
       "  </thead>\n",
       "  <tbody>\n",
       "    <tr>\n",
       "      <td>2015-02-08 19:05:18</td>\n",
       "      <td>583</td>\n",
       "      <td>my friends  i know many of you have waited for...</td>\n",
       "      <td>56</td>\n",
       "      <td>None</td>\n",
       "      <td>Twitter Web Client</td>\n",
       "      <td>None</td>\n",
       "      <td>2015</td>\n",
       "      <td>2</td>\n",
       "      <td>[my, friends, i, know, many, of, you, have, wa...</td>\n",
       "      <td>[friends, know, many, waited, speak, postponem...</td>\n",
       "      <td>0.000</td>\n",
       "      <td>0.853</td>\n",
       "      <td>0.147</td>\n",
       "      <td>0.4767</td>\n",
       "      <td>0.476700</td>\n",
       "      <td>0.476700</td>\n",
       "    </tr>\n",
       "    <tr>\n",
       "      <td>2015-02-08 19:06:04</td>\n",
       "      <td>837</td>\n",
       "      <td>to be clear  the postponement is a fraudulent ...</td>\n",
       "      <td>83</td>\n",
       "      <td>None</td>\n",
       "      <td>Twitter Web Client</td>\n",
       "      <td>None</td>\n",
       "      <td>2015</td>\n",
       "      <td>2</td>\n",
       "      <td>[to, be, clear, the, postponement, is, a, frau...</td>\n",
       "      <td>[clear, postponement, fraudulent, attempt, sub...</td>\n",
       "      <td>0.134</td>\n",
       "      <td>0.627</td>\n",
       "      <td>0.239</td>\n",
       "      <td>0.3664</td>\n",
       "      <td>0.421550</td>\n",
       "      <td>0.421550</td>\n",
       "    </tr>\n",
       "    <tr>\n",
       "      <td>2015-02-08 19:06:33</td>\n",
       "      <td>640</td>\n",
       "      <td>as a nigerian and a candidate in the elections...</td>\n",
       "      <td>62</td>\n",
       "      <td>None</td>\n",
       "      <td>Twitter Web Client</td>\n",
       "      <td>None</td>\n",
       "      <td>2015</td>\n",
       "      <td>2</td>\n",
       "      <td>[as, a, nigerian, and, a, candidate, in, the, ...</td>\n",
       "      <td>[candidate, elections, share, disappointment, ...</td>\n",
       "      <td>0.296</td>\n",
       "      <td>0.602</td>\n",
       "      <td>0.102</td>\n",
       "      <td>-0.6369</td>\n",
       "      <td>0.068733</td>\n",
       "      <td>0.068733</td>\n",
       "    </tr>\n",
       "    <tr>\n",
       "      <td>2015-02-08 19:06:53</td>\n",
       "      <td>751</td>\n",
       "      <td>but we must remain calm and peaceful  while re...</td>\n",
       "      <td>80</td>\n",
       "      <td>None</td>\n",
       "      <td>Twitter Web Client</td>\n",
       "      <td>None</td>\n",
       "      <td>2015</td>\n",
       "      <td>2</td>\n",
       "      <td>[but, we, must, remain, calm, and, peaceful, w...</td>\n",
       "      <td>[must, remain, calm, peaceful, resolute, allow...</td>\n",
       "      <td>0.310</td>\n",
       "      <td>0.392</td>\n",
       "      <td>0.298</td>\n",
       "      <td>-0.1025</td>\n",
       "      <td>0.025925</td>\n",
       "      <td>0.025925</td>\n",
       "    </tr>\n",
       "    <tr>\n",
       "      <td>2015-02-08 19:07:47</td>\n",
       "      <td>778</td>\n",
       "      <td>our country is going through difficult times i...</td>\n",
       "      <td>79</td>\n",
       "      <td>None</td>\n",
       "      <td>Twitter Web Client</td>\n",
       "      <td>None</td>\n",
       "      <td>2015</td>\n",
       "      <td>2</td>\n",
       "      <td>[our, country, is, going, through, difficult, ...</td>\n",
       "      <td>[going, difficult, times, hands, terrorists, a...</td>\n",
       "      <td>0.341</td>\n",
       "      <td>0.541</td>\n",
       "      <td>0.118</td>\n",
       "      <td>-0.8402</td>\n",
       "      <td>-0.147300</td>\n",
       "      <td>-0.147300</td>\n",
       "    </tr>\n",
       "  </tbody>\n",
       "</table>\n",
       "</div>"
      ],
      "text/plain": [
       "                     retweet_count  \\\n",
       "created_at                           \n",
       "2015-02-08 19:05:18            583   \n",
       "2015-02-08 19:06:04            837   \n",
       "2015-02-08 19:06:33            640   \n",
       "2015-02-08 19:06:53            751   \n",
       "2015-02-08 19:07:47            778   \n",
       "\n",
       "                                                                  text  \\\n",
       "created_at                                                               \n",
       "2015-02-08 19:05:18  my friends  i know many of you have waited for...   \n",
       "2015-02-08 19:06:04  to be clear  the postponement is a fraudulent ...   \n",
       "2015-02-08 19:06:33  as a nigerian and a candidate in the elections...   \n",
       "2015-02-08 19:06:53  but we must remain calm and peaceful  while re...   \n",
       "2015-02-08 19:07:47  our country is going through difficult times i...   \n",
       "\n",
       "                     favourite_count hashtags       source_device  \\\n",
       "created_at                                                          \n",
       "2015-02-08 19:05:18               56     None  Twitter Web Client   \n",
       "2015-02-08 19:06:04               83     None  Twitter Web Client   \n",
       "2015-02-08 19:06:33               62     None  Twitter Web Client   \n",
       "2015-02-08 19:06:53               80     None  Twitter Web Client   \n",
       "2015-02-08 19:07:47               79     None  Twitter Web Client   \n",
       "\n",
       "                    retweet_text  year  month  \\\n",
       "created_at                                      \n",
       "2015-02-08 19:05:18         None  2015      2   \n",
       "2015-02-08 19:06:04         None  2015      2   \n",
       "2015-02-08 19:06:33         None  2015      2   \n",
       "2015-02-08 19:06:53         None  2015      2   \n",
       "2015-02-08 19:07:47         None  2015      2   \n",
       "\n",
       "                                                                tokens  \\\n",
       "created_at                                                               \n",
       "2015-02-08 19:05:18  [my, friends, i, know, many, of, you, have, wa...   \n",
       "2015-02-08 19:06:04  [to, be, clear, the, postponement, is, a, frau...   \n",
       "2015-02-08 19:06:33  [as, a, nigerian, and, a, candidate, in, the, ...   \n",
       "2015-02-08 19:06:53  [but, we, must, remain, calm, and, peaceful, w...   \n",
       "2015-02-08 19:07:47  [our, country, is, going, through, difficult, ...   \n",
       "\n",
       "                                                          tokens_wo_sw    neg  \\\n",
       "created_at                                                                      \n",
       "2015-02-08 19:05:18  [friends, know, many, waited, speak, postponem...  0.000   \n",
       "2015-02-08 19:06:04  [clear, postponement, fraudulent, attempt, sub...  0.134   \n",
       "2015-02-08 19:06:33  [candidate, elections, share, disappointment, ...  0.296   \n",
       "2015-02-08 19:06:53  [must, remain, calm, peaceful, resolute, allow...  0.310   \n",
       "2015-02-08 19:07:47  [going, difficult, times, hands, terrorists, a...  0.341   \n",
       "\n",
       "                       neu    pos  compound  mean_sentiment  rolling_sentiment  \n",
       "created_at                                                                      \n",
       "2015-02-08 19:05:18  0.853  0.147    0.4767        0.476700           0.476700  \n",
       "2015-02-08 19:06:04  0.627  0.239    0.3664        0.421550           0.421550  \n",
       "2015-02-08 19:06:33  0.602  0.102   -0.6369        0.068733           0.068733  \n",
       "2015-02-08 19:06:53  0.392  0.298   -0.1025        0.025925           0.025925  \n",
       "2015-02-08 19:07:47  0.541  0.118   -0.8402       -0.147300          -0.147300  "
      ]
     },
     "execution_count": 37,
     "metadata": {},
     "output_type": "execute_result"
    }
   ],
   "source": [
    "data['rolling_sentiment'] = data['compound'].rolling('90D').mean()\n",
    "data.head()"
   ]
  },
  {
   "cell_type": "code",
   "execution_count": 38,
   "metadata": {},
   "outputs": [
    {
     "name": "stderr",
     "output_type": "stream",
     "text": [
      "c:\\users\\niniolaadegboyega\\appdata\\local\\programs\\python\\python37\\lib\\site-packages\\pandas\\plotting\\_matplotlib\\converter.py:103: FutureWarning: Using an implicitly registered datetime converter for a matplotlib plotting method. The converter was registered by pandas on import. Future versions of pandas will require you to explicitly register matplotlib converters.\n",
      "\n",
      "To register the converters:\n",
      "\t>>> from pandas.plotting import register_matplotlib_converters\n",
      "\t>>> register_matplotlib_converters()\n",
      "  warnings.warn(msg, FutureWarning)\n"
     ]
    },
    {
     "data": {
      "image/png": "[encoded data removed]",
      "text/plain": [
       "<Figure size 720x360 with 1 Axes>"
      ]
     },
     "metadata": {
      "needs_background": "light"
     },
     "output_type": "display_data"
    }
   ],
   "source": [
    "fig = plt.figure(figsize=(10, 5))\n",
    "ax = fig.add_subplot(111)\n",
    "\n",
    "ax.scatter(data.index, data['compound'], label=\"Sentiment of Buhari's Tweets\")\n",
    "ax.plot(data.index, data['mean_sentiment'], color='y', label='Expanding Mean')\n",
    "#ax.plot(data.index, data['rolling_sentiment'], color='g', label='Rolling Mean')\n",
    "ax.set(title=\"Sentiment Analysis of Buhari's Tweets\", xlabel=\"Date\", ylabel=\"Sentiment\")\n",
    "ax.legend(loc='best')\n",
    "\n",
    "fig.tight_layout()\n",
    "plt.show()"
   ]
  },
  {
   "cell_type": "markdown",
   "metadata": {},
   "source": [
    "#### Comments"
   ]
  },
  {
   "cell_type": "markdown",
   "metadata": {},
   "source": [
    "* Perhaps it is expected that his interactions should maintain a positive disposition. \n",
    "* We have a near constant sentiment level here over the years so it's possible that the same team has handled his Twitter interactions. I wonder if it is possible to affirm this hypothesis. "
   ]
  },
  {
   "cell_type": "markdown",
   "metadata": {},
   "source": [
    "# Topic Modelling"
   ]
  },
  {
   "cell_type": "code",
   "execution_count": 39,
   "metadata": {},
   "outputs": [],
   "source": [
    "# Convert the text column to list for modelling\n",
    "texts = data.text.values.tolist()"
   ]
  },
  {
   "cell_type": "code",
   "execution_count": 40,
   "metadata": {},
   "outputs": [],
   "source": [
    "import spacy\n",
    "\n",
    "def lemmatization(texts, allowed_postags=[\"NOUN\", \"ADJ\", \"VERB\", \"ADV\"]):\n",
    "    \"\"\"\n",
    "    This function lemmatizes individual words in the corpus.\n",
    "    Parameters:\n",
    "    -----------\n",
    "    texts - A list of strings. \n",
    "    allowed_postags - A list of POS to keep in the output. \n",
    "    \n",
    "    Returns:\n",
    "    --------\n",
    "    A list similar to input but with words reduces to their lemmas.\n",
    "    \"\"\"\n",
    "    # Initialized an empty list to hold output\n",
    "    texts_out = []\n",
    "    \n",
    "    # Loop over individual string items in input &\n",
    "    # lemmatized. Ignores words if POS not in allowed_postags\n",
    "    for sent in texts:\n",
    "        doc = nlp(sent)\n",
    "        \n",
    "        texts_out.append(\" \".join([token.lemma_ if token.lemma_ not in [\"-PRON\"]\n",
    "                                  else \"\" for token in doc if token.pos_ in allowed_postags]))\n",
    "    return texts_out"
   ]
  },
  {
   "cell_type": "code",
   "execution_count": 41,
   "metadata": {},
   "outputs": [
    {
     "name": "stdout",
     "output_type": "stream",
     "text": [
      "['friend know wait speak postponement election yesterday', 'postponement attempt subvert democracy world see']\n"
     ]
    }
   ],
   "source": [
    "nlp = spacy.load(\"en_core_web_sm\", disable=[\"parser\", \"ner\"])\n",
    "\n",
    "# Keeping only Nouns & Verbs. These are enough to define individual topics\n",
    "data_lemmatized = lemmatization(texts, allowed_postags=[\"NOUN\", \"VERB\"])\n",
    "\n",
    "print(data_lemmatized[:2])"
   ]
  },
  {
   "cell_type": "code",
   "execution_count": 42,
   "metadata": {},
   "outputs": [],
   "source": [
    "# Create document-word matrix required for LDA model. \n",
    "# Ignores words not in up to 10 tweets. \n",
    "\n",
    "from sklearn.feature_extraction.text import CountVectorizer\n",
    "vectorizer = CountVectorizer(analyzer='word',\n",
    "                            min_df=10,\n",
    "                            stop_words='english',\n",
    "                            lowercase=True,\n",
    "                            token_pattern='[a-zA-Z0-9]{3,}',\n",
    "                            max_features=5000)\n",
    "\n",
    "data_vectorized = vectorizer.fit_transform(data_lemmatized)"
   ]
  },
  {
   "cell_type": "code",
   "execution_count": 43,
   "metadata": {},
   "outputs": [
    {
     "name": "stderr",
     "output_type": "stream",
     "text": [
      "c:\\users\\niniolaadegboyega\\appdata\\local\\programs\\python\\python37\\lib\\site-packages\\sklearn\\model_selection\\_split.py:1978: FutureWarning: The default value of cv will change from 3 to 5 in version 0.22. Specify it explicitly to silence this warning.\n",
      "  warnings.warn(CV_WARNING, FutureWarning)\n"
     ]
    },
    {
     "data": {
      "text/plain": [
       "GridSearchCV(cv='warn', error_score='raise-deprecating',\n",
       "             estimator=LatentDirichletAllocation(batch_size=128,\n",
       "                                                 doc_topic_prior=None,\n",
       "                                                 evaluate_every=-1,\n",
       "                                                 learning_decay=0.7,\n",
       "                                                 learning_method='online',\n",
       "                                                 learning_offset=50.0,\n",
       "                                                 max_doc_update_iter=100,\n",
       "                                                 max_iter=5,\n",
       "                                                 mean_change_tol=0.001,\n",
       "                                                 n_components=10, n_jobs=None,\n",
       "                                                 perp_tol=0.1, random_state=69,\n",
       "                                                 topic_word_prior=None,\n",
       "                                                 total_samples=1000000.0,\n",
       "                                                 verbose=0),\n",
       "             iid='warn', n_jobs=None,\n",
       "             param_grid={'learning_decay': [0.5, 0.7, 0.9],\n",
       "                         'n_components': [3, 5, 10, 15, 20, 25, 30]},\n",
       "             pre_dispatch='2*n_jobs', refit=True, return_train_score=False,\n",
       "             scoring=None, verbose=0)"
      ]
     },
     "execution_count": 43,
     "metadata": {},
     "output_type": "execute_result"
    }
   ],
   "source": [
    "from sklearn.decomposition import LatentDirichletAllocation\n",
    "from sklearn.model_selection import GridSearchCV\n",
    "\n",
    "search_params = {\"n_components\": [3, 5, 10, 15, 20, 25, 30],\n",
    "                \"learning_decay\": [.5, .7, .9]}\n",
    "\n",
    "lda = LatentDirichletAllocation(max_iter=5,\n",
    "                               learning_method='online',\n",
    "                               learning_offset=50.,\n",
    "                               random_state=69)\n",
    "\n",
    "model = GridSearchCV(lda, param_grid=search_params)\n",
    "\n",
    "model.fit(data_vectorized)"
   ]
  },
  {
   "cell_type": "code",
   "execution_count": 45,
   "metadata": {},
   "outputs": [
    {
     "name": "stdout",
     "output_type": "stream",
     "text": [
      "Best Model's Params: {'learning_decay': 0.9, 'n_components': 3}\n",
      "Best likelihood score: -46224.32038612968\n",
      "Model Perplexity: 533.9509763487096\n"
     ]
    }
   ],
   "source": [
    "lda_model = model.best_estimator_\n",
    "\n",
    "print(\"Best Model's Params: {}\".format(model.best_params_))\n",
    "\n",
    "print(\"Best likelihood score: {}\".format(model.best_score_))\n",
    "\n",
    "print(\"Model Perplexity: {}\".format(lda_model.perplexity(data_vectorized)))"
   ]
  },
  {
   "cell_type": "code",
   "execution_count": 46,
   "metadata": {},
   "outputs": [],
   "source": [
    "import numpy as np\n",
    "\n",
    "# Classify the individual tweets into the gridsearched topics\n",
    "topic = lda_model.fit_transform(data_vectorized)\n",
    "topic = [x.argmax() for x in topic]\n",
    "\n",
    "keywords = np.array(vectorizer.get_feature_names())"
   ]
  },
  {
   "cell_type": "code",
   "execution_count": 51,
   "metadata": {},
   "outputs": [],
   "source": [
    "#Initialize empty list to hold topics & their keywords\n",
    "topic_keywords = dict()\n",
    "\n",
    "for i in range(3): \n",
    "    # Select top 20 words for each topic\n",
    "    topic_keywords[i] = list()\n",
    "    \n",
    "    for word in lda_model.components_[i].argsort()[:10]:\n",
    "        topic_keywords[i].append(keywords.take(word))"
   ]
  },
  {
   "cell_type": "code",
   "execution_count": 52,
   "metadata": {},
   "outputs": [
    {
     "data": {
      "text/plain": [
       "{0: ['electricity',\n",
       "  'federation',\n",
       "  'flag',\n",
       "  'investigation',\n",
       "  'comfort',\n",
       "  'chibokgirl',\n",
       "  'loan',\n",
       "  'commander',\n",
       "  'railway',\n",
       "  'announce'],\n",
       " 1: ['affair',\n",
       "  'ambassador',\n",
       "  'text',\n",
       "  'decision',\n",
       "  'thingswillchange',\n",
       "  'crowd',\n",
       "  'event',\n",
       "  'distribution',\n",
       "  'guarantee',\n",
       "  'acknowledge'],\n",
       " 2: ['chibokgirl',\n",
       "  'poll',\n",
       "  'director',\n",
       "  'artisan',\n",
       "  'river',\n",
       "  'crowd',\n",
       "  'exercise',\n",
       "  'video',\n",
       "  'arrive',\n",
       "  'mission']}"
      ]
     },
     "execution_count": 52,
     "metadata": {},
     "output_type": "execute_result"
    }
   ],
   "source": [
    "topic_keywords"
   ]
  },
  {
   "cell_type": "code",
   "execution_count": 54,
   "metadata": {},
   "outputs": [],
   "source": [
    "topic_keys = {0: \"Projects / Plans\",\n",
    "              1: \"Economy\",\n",
    "              2: \"Security\"}"
   ]
  },
  {
   "cell_type": "code",
   "execution_count": 56,
   "metadata": {},
   "outputs": [],
   "source": [
    "# Add topic back to initial dataframe \n",
    "data[\"topics\"] = topic\n",
    "data.topics = data.topics.map(topic_keys)"
   ]
  },
  {
   "cell_type": "code",
   "execution_count": 61,
   "metadata": {},
   "outputs": [
    {
     "data": {
      "text/html": [
       "<div>\n",
       "<style scoped>\n",
       "    .dataframe tbody tr th:only-of-type {\n",
       "        vertical-align: middle;\n",
       "    }\n",
       "\n",
       "    .dataframe tbody tr th {\n",
       "        vertical-align: top;\n",
       "    }\n",
       "\n",
       "    .dataframe thead th {\n",
       "        text-align: right;\n",
       "    }\n",
       "</style>\n",
       "<table border=\"1\" class=\"dataframe\">\n",
       "  <thead>\n",
       "    <tr style=\"text-align: right;\">\n",
       "      <th></th>\n",
       "      <th>text</th>\n",
       "      <th>topics</th>\n",
       "      <th>retweet_count</th>\n",
       "    </tr>\n",
       "    <tr>\n",
       "      <th>created_at</th>\n",
       "      <th></th>\n",
       "      <th></th>\n",
       "      <th></th>\n",
       "    </tr>\n",
       "  </thead>\n",
       "  <tbody>\n",
       "    <tr>\n",
       "      <td>2019-11-04 15:54:45</td>\n",
       "      <td>now  a month later  we have together with the ...</td>\n",
       "      <td>Security</td>\n",
       "      <td>189</td>\n",
       "    </tr>\n",
       "    <tr>\n",
       "      <td>2019-11-04 16:08:30</td>\n",
       "      <td>nigeria will now receive its fair  rightful an...</td>\n",
       "      <td>Security</td>\n",
       "      <td>203</td>\n",
       "    </tr>\n",
       "    <tr>\n",
       "      <td>2019-11-04 16:10:14</td>\n",
       "      <td>all attempts to amend the law on the distribut...</td>\n",
       "      <td>Security</td>\n",
       "      <td>140</td>\n",
       "    </tr>\n",
       "    <tr>\n",
       "      <td>2019-11-04 16:11:39</td>\n",
       "      <td>today this changes  for the first time under o...</td>\n",
       "      <td>Security</td>\n",
       "      <td>189</td>\n",
       "    </tr>\n",
       "    <tr>\n",
       "      <td>2019-11-04 16:11:56</td>\n",
       "      <td>today marks a new and beneficial relationship ...</td>\n",
       "      <td>Projects / Plans</td>\n",
       "      <td>184</td>\n",
       "    </tr>\n",
       "  </tbody>\n",
       "</table>\n",
       "</div>"
      ],
      "text/plain": [
       "                                                                  text  \\\n",
       "created_at                                                               \n",
       "2019-11-04 15:54:45  now  a month later  we have together with the ...   \n",
       "2019-11-04 16:08:30  nigeria will now receive its fair  rightful an...   \n",
       "2019-11-04 16:10:14  all attempts to amend the law on the distribut...   \n",
       "2019-11-04 16:11:39  today this changes  for the first time under o...   \n",
       "2019-11-04 16:11:56  today marks a new and beneficial relationship ...   \n",
       "\n",
       "                               topics  retweet_count  \n",
       "created_at                                            \n",
       "2019-11-04 15:54:45          Security            189  \n",
       "2019-11-04 16:08:30          Security            203  \n",
       "2019-11-04 16:10:14          Security            140  \n",
       "2019-11-04 16:11:39          Security            189  \n",
       "2019-11-04 16:11:56  Projects / Plans            184  "
      ]
     },
     "execution_count": 61,
     "metadata": {},
     "output_type": "execute_result"
    }
   ],
   "source": [
    "data[[\"text\", \"topics\", \"retweet_count\"]].tail()"
   ]
  },
  {
   "cell_type": "markdown",
   "metadata": {},
   "source": [
    "#### Comments"
   ]
  },
  {
   "cell_type": "markdown",
   "metadata": {},
   "source": [
    "* From inspection, LDA is not doing a very good job despite grid searching for lowest perplexity. \n",
    "* Perhaps the focus should not be on finding the lowest possible perplexity. I will investigate this. \n",
    "* This means further analysis based on topics cannot be trusted. "
   ]
  },
  {
   "cell_type": "code",
   "execution_count": 62,
   "metadata": {},
   "outputs": [],
   "source": [
    "topic_interactions = data.groupby(\"topics\")[[\"retweet_count\", \"favourite_count\"]].sum()"
   ]
  },
  {
   "cell_type": "code",
   "execution_count": 63,
   "metadata": {},
   "outputs": [],
   "source": [
    "topic_interactions[\"engagements\"] = topic_interactions.sum(axis=1)"
   ]
  },
  {
   "cell_type": "code",
   "execution_count": 64,
   "metadata": {},
   "outputs": [
    {
     "data": {
      "text/html": [
       "<div>\n",
       "<style scoped>\n",
       "    .dataframe tbody tr th:only-of-type {\n",
       "        vertical-align: middle;\n",
       "    }\n",
       "\n",
       "    .dataframe tbody tr th {\n",
       "        vertical-align: top;\n",
       "    }\n",
       "\n",
       "    .dataframe thead th {\n",
       "        text-align: right;\n",
       "    }\n",
       "</style>\n",
       "<table border=\"1\" class=\"dataframe\">\n",
       "  <thead>\n",
       "    <tr style=\"text-align: right;\">\n",
       "      <th></th>\n",
       "      <th>retweet_count</th>\n",
       "      <th>favourite_count</th>\n",
       "      <th>engagements</th>\n",
       "    </tr>\n",
       "    <tr>\n",
       "      <th>topics</th>\n",
       "      <th></th>\n",
       "      <th></th>\n",
       "      <th></th>\n",
       "    </tr>\n",
       "  </thead>\n",
       "  <tbody>\n",
       "    <tr>\n",
       "      <td>Economy</td>\n",
       "      <td>392053</td>\n",
       "      <td>726751</td>\n",
       "      <td>1118804</td>\n",
       "    </tr>\n",
       "    <tr>\n",
       "      <td>Projects / Plans</td>\n",
       "      <td>503925</td>\n",
       "      <td>765465</td>\n",
       "      <td>1269390</td>\n",
       "    </tr>\n",
       "    <tr>\n",
       "      <td>Security</td>\n",
       "      <td>512480</td>\n",
       "      <td>1022788</td>\n",
       "      <td>1535268</td>\n",
       "    </tr>\n",
       "  </tbody>\n",
       "</table>\n",
       "</div>"
      ],
      "text/plain": [
       "                  retweet_count  favourite_count  engagements\n",
       "topics                                                       \n",
       "Economy                  392053           726751      1118804\n",
       "Projects / Plans         503925           765465      1269390\n",
       "Security                 512480          1022788      1535268"
      ]
     },
     "execution_count": 64,
     "metadata": {},
     "output_type": "execute_result"
    }
   ],
   "source": [
    "topic_interactions"
   ]
  },
  {
   "cell_type": "code",
   "execution_count": 65,
   "metadata": {},
   "outputs": [
    {
     "data": {
      "text/plain": [
       "Projects / Plans    1223\n",
       "Security            1161\n",
       "Economy              861\n",
       "Name: topics, dtype: int64"
      ]
     },
     "execution_count": 65,
     "metadata": {},
     "output_type": "execute_result"
    }
   ],
   "source": [
    "data.topics.value_counts()"
   ]
  },
  {
   "cell_type": "markdown",
   "metadata": {},
   "source": [
    "# Word Cloud"
   ]
  },
  {
   "cell_type": "code",
   "execution_count": 66,
   "metadata": {},
   "outputs": [],
   "source": [
    "import cv2 as cv\n",
    "from wordcloud import WordCloud "
   ]
  },
  {
   "cell_type": "code",
   "execution_count": 67,
   "metadata": {},
   "outputs": [],
   "source": [
    "img = cv.imread(\"..\\\\data\\\\buhari_mask.jpg\")"
   ]
  },
  {
   "cell_type": "code",
   "execution_count": 68,
   "metadata": {},
   "outputs": [
    {
     "data": {
      "text/plain": [
       "<wordcloud.wordcloud.WordCloud at 0x207eb498908>"
      ]
     },
     "execution_count": 68,
     "metadata": {},
     "output_type": "execute_result"
    }
   ],
   "source": [
    "wc = WordCloud(background_color=\"white\", max_words=200, \n",
    "              mask=img, stopwords=stop_words,\n",
    "              contour_width=3, contour_color=\"green\")\n",
    "\n",
    "text = \" \".join(x for x in data.text)\n",
    "\n",
    "wc.generate(text)\n",
    "\n",
    "wc.to_file(\"buhari_overall.png\")"
   ]
  },
  {
   "cell_type": "code",
   "execution_count": 69,
   "metadata": {},
   "outputs": [],
   "source": [
    "def generate_wordcloud(data, mask, background_color=\"white\", contour_color=\"green\", stopwords=stop_words, max_words=200):\n",
    "    for year in data.year.unique():\n",
    "        text = \" \".join(x for x in data.loc[data.year == year].text)\n",
    "        \n",
    "        wc = WordCloud(background_color=background_color, stopwords=stopwords,\n",
    "                       max_words=max_words, mask=mask, \n",
    "                      contour_width=3, contour_color=contour_color)\n",
    "        wc.generate(text)\n",
    "        filename = \"buhari_\" + str(year) + \".jpg\"\n",
    "        wc.to_file(filename)"
   ]
  },
  {
   "cell_type": "code",
   "execution_count": 70,
   "metadata": {},
   "outputs": [],
   "source": [
    "generate_wordcloud(data, mask=img)"
   ]
  },
  {
   "cell_type": "markdown",
   "metadata": {},
   "source": [
    "# Notes"
   ]
  },
  {
   "cell_type": "markdown",
   "metadata": {},
   "source": [
    "* Do more learnings on LDA. \n",
    "* Look for other sources of official interactions by Buhari & extend this study. "
   ]
  }
 ],
 "metadata": {
  "kernelspec": {
   "display_name": "Python 3",
   "language": "python",
   "name": "python3"
  },
  "language_info": {
   "codemirror_mode": {
    "name": "ipython",
    "version": 3
   },
   "file_extension": ".py",
   "mimetype": "text/x-python",
   "name": "python",
   "nbconvert_exporter": "python",
   "pygments_lexer": "ipython3",
   "version": "3.7.4"
  }
 },
 "nbformat": 4,
 "nbformat_minor": 4
}
