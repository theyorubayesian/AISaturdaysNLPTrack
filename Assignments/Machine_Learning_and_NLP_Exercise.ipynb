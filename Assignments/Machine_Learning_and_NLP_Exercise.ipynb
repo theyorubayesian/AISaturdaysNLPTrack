{
 "cells": [
  {
   "cell_type": "markdown",
   "metadata": {},
   "source": [
    "# Machine Learning and NLP Exercises #"
   ]
  },
  {
   "cell_type": "markdown",
   "metadata": {},
   "source": [
    "## Introduction ##"
   ]
  },
  {
   "cell_type": "markdown",
   "metadata": {},
   "source": [
    "We will be using the same review data set from Kaggle from Week 2 for this exercise. The product we'll focus on this time is a cappuccino cup. The goal of this week is to not only preprocess the data, but to classify reviews as positive or negative based on the review text.\n",
    "\n",
    "The following code will help you load in the data."
   ]
  },
  {
   "cell_type": "code",
   "execution_count": 1,
   "metadata": {},
   "outputs": [],
   "source": [
    "import nltk\n",
    "import pandas as pd\n",
    "import warnings\n",
    "warnings.filterwarnings(\"ignore\")"
   ]
  },
  {
   "cell_type": "code",
   "execution_count": 2,
   "metadata": {
    "scrolled": true
   },
   "outputs": [
    {
     "data": {
      "text/html": [
       "<div>\n",
       "<style scoped>\n",
       "    .dataframe tbody tr th:only-of-type {\n",
       "        vertical-align: middle;\n",
       "    }\n",
       "\n",
       "    .dataframe tbody tr th {\n",
       "        vertical-align: top;\n",
       "    }\n",
       "\n",
       "    .dataframe thead th {\n",
       "        text-align: right;\n",
       "    }\n",
       "</style>\n",
       "<table border=\"1\" class=\"dataframe\">\n",
       "  <thead>\n",
       "    <tr style=\"text-align: right;\">\n",
       "      <th></th>\n",
       "      <th>user_id</th>\n",
       "      <th>stars</th>\n",
       "      <th>reviews</th>\n",
       "    </tr>\n",
       "  </thead>\n",
       "  <tbody>\n",
       "    <tr>\n",
       "      <td>0</td>\n",
       "      <td>A2XP9IN4JOMROD</td>\n",
       "      <td>1</td>\n",
       "      <td>I wanted to love this. I was even prepared for...</td>\n",
       "    </tr>\n",
       "    <tr>\n",
       "      <td>1</td>\n",
       "      <td>A2TS09JCXNV1VD</td>\n",
       "      <td>5</td>\n",
       "      <td>Grove Square Cappuccino Cups were excellent. T...</td>\n",
       "    </tr>\n",
       "    <tr>\n",
       "      <td>2</td>\n",
       "      <td>AJ3L5J7GN09SV</td>\n",
       "      <td>2</td>\n",
       "      <td>I bought the Grove Square hazelnut cappuccino ...</td>\n",
       "    </tr>\n",
       "    <tr>\n",
       "      <td>3</td>\n",
       "      <td>A3CZD34ZTUJME7</td>\n",
       "      <td>1</td>\n",
       "      <td>I love my Keurig, and I love most of the Keuri...</td>\n",
       "    </tr>\n",
       "    <tr>\n",
       "      <td>4</td>\n",
       "      <td>AWKN396SHAQGP</td>\n",
       "      <td>1</td>\n",
       "      <td>It's a powdered drink. No filter in k-cup.&lt;br ...</td>\n",
       "    </tr>\n",
       "  </tbody>\n",
       "</table>\n",
       "</div>"
      ],
      "text/plain": [
       "          user_id  stars                                            reviews\n",
       "0  A2XP9IN4JOMROD      1  I wanted to love this. I was even prepared for...\n",
       "1  A2TS09JCXNV1VD      5  Grove Square Cappuccino Cups were excellent. T...\n",
       "2   AJ3L5J7GN09SV      2  I bought the Grove Square hazelnut cappuccino ...\n",
       "3  A3CZD34ZTUJME7      1  I love my Keurig, and I love most of the Keuri...\n",
       "4   AWKN396SHAQGP      1  It's a powdered drink. No filter in k-cup.<br ..."
      ]
     },
     "execution_count": 2,
     "metadata": {},
     "output_type": "execute_result"
    }
   ],
   "source": [
    "data = pd.read_csv('./data/coffee.csv')\n",
    "data.head()"
   ]
  },
  {
   "cell_type": "markdown",
   "metadata": {},
   "source": [
    "for target in data.iloc[:, -2].unique():\n",
    "    sep[target] = data.loc[data.iloc[:, -2] == target]"
   ]
  },
  {
   "cell_type": "markdown",
   "metadata": {},
   "source": [
    "## Question 1 ##"
   ]
  },
  {
   "cell_type": "markdown",
   "metadata": {},
   "source": [
    "* Determine how many reviews there are in total.\n",
    "* Determine the percent of 1, 2, 3, 4 and 5 star reviews.\n",
    "* Create a new data set for modeling with the following columns:\n",
    "     - Column 1: 'positive' if review = 4 or 5, and 'negative' if review = 1 or 2\n",
    "     - Column 2: review text\n",
    "* Take a look at the number of positive and negative reviews in the newly created data set.\n",
    "\n",
    "Checkpoint: the resulting data set should have 514 reviews.\n",
    "\n",
    "Use the preprocessing code below to clean the reviews data before moving on to modeling."
   ]
  },
  {
   "cell_type": "code",
   "execution_count": 3,
   "metadata": {},
   "outputs": [
    {
     "name": "stdout",
     "output_type": "stream",
     "text": [
      "Number of reviews: 542\n"
     ]
    }
   ],
   "source": [
    "print(\"Number of reviews: {}\".format(data.shape[0]))"
   ]
  },
  {
   "cell_type": "code",
   "execution_count": 4,
   "metadata": {},
   "outputs": [
    {
     "name": "stdout",
     "output_type": "stream",
     "text": [
      "% of reviews\n"
     ]
    },
    {
     "data": {
      "text/plain": [
       "5    0.568266\n",
       "1    0.177122\n",
       "4    0.119926\n",
       "2    0.083026\n",
       "3    0.051661\n",
       "Name: stars, dtype: float64"
      ]
     },
     "execution_count": 4,
     "metadata": {},
     "output_type": "execute_result"
    }
   ],
   "source": [
    "#percentage of 1, 2, 3, 4, 5 star reviews \n",
    "print(\"% of reviews\")\n",
    "data.stars.value_counts(normalize=True)"
   ]
  },
  {
   "cell_type": "code",
   "execution_count": 5,
   "metadata": {},
   "outputs": [],
   "source": [
    "#new dataframe of review != 3, with stars negative or postive\n",
    "df = data.loc[data.stars != 3]\n",
    "df.stars = df.stars.apply(lambda x: 'positive' if x >= 4 else 'negative')"
   ]
  },
  {
   "cell_type": "code",
   "execution_count": 6,
   "metadata": {},
   "outputs": [
    {
     "data": {
      "text/plain": [
       "positive    373\n",
       "negative    141\n",
       "Name: stars, dtype: int64"
      ]
     },
     "execution_count": 6,
     "metadata": {},
     "output_type": "execute_result"
    }
   ],
   "source": [
    "#number of positive and negative reviews\n",
    "df.stars.value_counts()"
   ]
  },
  {
   "cell_type": "code",
   "execution_count": 7,
   "metadata": {},
   "outputs": [
    {
     "data": {
      "text/html": [
       "<div>\n",
       "<style scoped>\n",
       "    .dataframe tbody tr th:only-of-type {\n",
       "        vertical-align: middle;\n",
       "    }\n",
       "\n",
       "    .dataframe tbody tr th {\n",
       "        vertical-align: top;\n",
       "    }\n",
       "\n",
       "    .dataframe thead th {\n",
       "        text-align: right;\n",
       "    }\n",
       "</style>\n",
       "<table border=\"1\" class=\"dataframe\">\n",
       "  <thead>\n",
       "    <tr style=\"text-align: right;\">\n",
       "      <th></th>\n",
       "      <th>user_id</th>\n",
       "      <th>stars</th>\n",
       "      <th>reviews</th>\n",
       "    </tr>\n",
       "  </thead>\n",
       "  <tbody>\n",
       "    <tr>\n",
       "      <td>0</td>\n",
       "      <td>A2XP9IN4JOMROD</td>\n",
       "      <td>negative</td>\n",
       "      <td>I wanted to love this. I was even prepared for...</td>\n",
       "    </tr>\n",
       "    <tr>\n",
       "      <td>1</td>\n",
       "      <td>A2TS09JCXNV1VD</td>\n",
       "      <td>positive</td>\n",
       "      <td>Grove Square Cappuccino Cups were excellent. T...</td>\n",
       "    </tr>\n",
       "    <tr>\n",
       "      <td>2</td>\n",
       "      <td>AJ3L5J7GN09SV</td>\n",
       "      <td>negative</td>\n",
       "      <td>I bought the Grove Square hazelnut cappuccino ...</td>\n",
       "    </tr>\n",
       "    <tr>\n",
       "      <td>3</td>\n",
       "      <td>A3CZD34ZTUJME7</td>\n",
       "      <td>negative</td>\n",
       "      <td>I love my Keurig, and I love most of the Keuri...</td>\n",
       "    </tr>\n",
       "    <tr>\n",
       "      <td>4</td>\n",
       "      <td>AWKN396SHAQGP</td>\n",
       "      <td>negative</td>\n",
       "      <td>It's a powdered drink. No filter in k-cup.&lt;br ...</td>\n",
       "    </tr>\n",
       "  </tbody>\n",
       "</table>\n",
       "</div>"
      ],
      "text/plain": [
       "          user_id     stars                                            reviews\n",
       "0  A2XP9IN4JOMROD  negative  I wanted to love this. I was even prepared for...\n",
       "1  A2TS09JCXNV1VD  positive  Grove Square Cappuccino Cups were excellent. T...\n",
       "2   AJ3L5J7GN09SV  negative  I bought the Grove Square hazelnut cappuccino ...\n",
       "3  A3CZD34ZTUJME7  negative  I love my Keurig, and I love most of the Keuri...\n",
       "4   AWKN396SHAQGP  negative  It's a powdered drink. No filter in k-cup.<br ..."
      ]
     },
     "execution_count": 7,
     "metadata": {},
     "output_type": "execute_result"
    }
   ],
   "source": [
    "df.head()"
   ]
  },
  {
   "cell_type": "code",
   "execution_count": 8,
   "metadata": {},
   "outputs": [
    {
     "data": {
      "text/plain": [
       "(514, 3)"
      ]
     },
     "execution_count": 8,
     "metadata": {},
     "output_type": "execute_result"
    }
   ],
   "source": [
    "df.shape"
   ]
  },
  {
   "cell_type": "code",
   "execution_count": 9,
   "metadata": {},
   "outputs": [
    {
     "data": {
      "text/html": [
       "<div>\n",
       "<style scoped>\n",
       "    .dataframe tbody tr th:only-of-type {\n",
       "        vertical-align: middle;\n",
       "    }\n",
       "\n",
       "    .dataframe tbody tr th {\n",
       "        vertical-align: top;\n",
       "    }\n",
       "\n",
       "    .dataframe thead th {\n",
       "        text-align: right;\n",
       "    }\n",
       "</style>\n",
       "<table border=\"1\" class=\"dataframe\">\n",
       "  <thead>\n",
       "    <tr style=\"text-align: right;\">\n",
       "      <th></th>\n",
       "      <th>user_id</th>\n",
       "      <th>stars</th>\n",
       "      <th>reviews</th>\n",
       "    </tr>\n",
       "  </thead>\n",
       "  <tbody>\n",
       "    <tr>\n",
       "      <td>0</td>\n",
       "      <td>A2XP9IN4JOMROD</td>\n",
       "      <td>negative</td>\n",
       "      <td>i wanted to love this  i was even prepared for...</td>\n",
       "    </tr>\n",
       "    <tr>\n",
       "      <td>1</td>\n",
       "      <td>A2TS09JCXNV1VD</td>\n",
       "      <td>positive</td>\n",
       "      <td>grove square cappuccino cups were excellent  t...</td>\n",
       "    </tr>\n",
       "    <tr>\n",
       "      <td>2</td>\n",
       "      <td>AJ3L5J7GN09SV</td>\n",
       "      <td>negative</td>\n",
       "      <td>i bought the grove square hazelnut cappuccino ...</td>\n",
       "    </tr>\n",
       "    <tr>\n",
       "      <td>3</td>\n",
       "      <td>A3CZD34ZTUJME7</td>\n",
       "      <td>negative</td>\n",
       "      <td>i love my keurig  and i love most of the keuri...</td>\n",
       "    </tr>\n",
       "    <tr>\n",
       "      <td>4</td>\n",
       "      <td>AWKN396SHAQGP</td>\n",
       "      <td>negative</td>\n",
       "      <td>it s a powdered drink  no filter in k cup  br ...</td>\n",
       "    </tr>\n",
       "  </tbody>\n",
       "</table>\n",
       "</div>"
      ],
      "text/plain": [
       "          user_id     stars                                            reviews\n",
       "0  A2XP9IN4JOMROD  negative  i wanted to love this  i was even prepared for...\n",
       "1  A2TS09JCXNV1VD  positive  grove square cappuccino cups were excellent  t...\n",
       "2   AJ3L5J7GN09SV  negative  i bought the grove square hazelnut cappuccino ...\n",
       "3  A3CZD34ZTUJME7  negative  i love my keurig  and i love most of the keuri...\n",
       "4   AWKN396SHAQGP  negative  it s a powdered drink  no filter in k cup  br ..."
      ]
     },
     "execution_count": 9,
     "metadata": {},
     "output_type": "execute_result"
    }
   ],
   "source": [
    "# Text preprocessing steps - remove numbers, captial letters and punctuation\n",
    "import re\n",
    "import string\n",
    "\n",
    "alphanumeric = lambda x: re.sub(r\"\"\"\\w*\\d\\w*\"\"\", ' ', x)\n",
    "punc_lower = lambda x: re.sub('[%s]' % re.escape(string.punctuation), ' ', x.lower())\n",
    "\n",
    "df.reviews = df.reviews.map(alphanumeric).map(punc_lower)\n",
    "df.head()"
   ]
  },
  {
   "cell_type": "markdown",
   "metadata": {},
   "source": [
    "## Question 2 ##"
   ]
  },
  {
   "cell_type": "markdown",
   "metadata": {},
   "source": [
    "Prepare the data for modeling:\n",
    "* Split the data into training and test sets. You should have four sets of data - X_train, X_test, y_train, y_test\n",
    "\n",
    "Create numerical features with Count Vectorizer. Create two document-term matrices:\n",
    "* Matrix 1: Terms should be unigrams (single words), and values should be word counts (Hint: this is the Count Vectorizer default)\n",
    "* Matrix 2: Terms should be unigrams and bigrams, and values should be binary values\n",
    "\n",
    "Recommendation: Utilize Count Vectorizer's stop words function to remove stop words from the reviews text."
   ]
  },
  {
   "cell_type": "code",
   "execution_count": 10,
   "metadata": {},
   "outputs": [],
   "source": [
    "stars = {'positive': 0,\n",
    "         'negative': 1}"
   ]
  },
  {
   "cell_type": "code",
   "execution_count": 11,
   "metadata": {},
   "outputs": [],
   "source": [
    "df.stars = df.stars.map(stars)"
   ]
  },
  {
   "cell_type": "code",
   "execution_count": 12,
   "metadata": {},
   "outputs": [],
   "source": [
    "from sklearn.model_selection import train_test_split\n",
    "\n",
    "Xtrain, Xtest, ytrain, ytest = train_test_split(df.reviews, df.stars, test_size=0.3, stratify=df.stars)"
   ]
  },
  {
   "cell_type": "code",
   "execution_count": 13,
   "metadata": {},
   "outputs": [],
   "source": [
    "from sklearn.feature_extraction.text import CountVectorizer\n",
    "\n",
    "#matrix 1\n",
    "cv_m1 = CountVectorizer(stop_words='english')\n",
    "Xtrain_m1 = cv_m1.fit_transform(Xtrain).toarray()\n",
    "Xtest_m1 = cv_m1.transform(Xtest).toarray()\n",
    "\n",
    "#matrix 2\n",
    "cv_m2 = CountVectorizer(stop_words='english', ngram_range=(1, 2))\n",
    "Xtrain_m2 = cv_m2.fit_transform(Xtrain).toarray()\n",
    "Xtest_m2 = cv_m2.transform(Xtest).toarray()"
   ]
  },
  {
   "cell_type": "markdown",
   "metadata": {},
   "source": [
    "## Question 3 ##"
   ]
  },
  {
   "cell_type": "markdown",
   "metadata": {},
   "source": [
    "Use Logistic Regression to classify reviews as positive or negative. Do this for both matrices.\n",
    "* Fit a Logistic Regression model on the training data\n",
    "* Apply the model on the test data and calculate the following error metrics: accuracy, precision, recall, F1 score\n",
    "* Optional: Visualize the confusion matrix for both models\n",
    "* Compare the error metrics of the two matrices\n",
    "\n",
    "Recommendation: Create a function to calculate the error metrics, since you'll be doing this multiple times."
   ]
  },
  {
   "cell_type": "code",
   "execution_count": 14,
   "metadata": {},
   "outputs": [],
   "source": [
    "from sklearn.linear_model import LogisticRegression\n",
    "from sklearn.metrics import confusion_matrix, classification_report, accuracy_score, precision_score, recall_score, f1_score\n",
    "from itertools import product\n",
    "import numpy as np\n",
    "import matplotlib.pyplot as plt\n",
    "import seaborn as sns; sns.set()\n",
    "%matplotlib inline\n",
    "\n",
    "def my_classifier(model, xtrain, ytrain, xtest, ytest):\n",
    "    model = model()\n",
    "    model.fit(xtrain, ytrain)\n",
    "    \n",
    "    ypred = model.predict(xtest)\n",
    "    \n",
    "    #output precision, recall, f1-score, and accuracy metrics\n",
    "    print(classification_report(ytest, ypred, target_names=[\"Positive\", \"Negative\"]))\n",
    "    print(\"Recall: {:.2f}\".format(recall_score(ytest, ypred)))\n",
    "    print(\"Accuracy: {:.2f}\".format(accuracy_score(ytest, ypred)))\n",
    "    print(\"Precision: {:.2f}\".format(precision_score(ytest, ypred)))\n",
    "    print(\"F1 Score: {:.2f}\".format(f1_score(ytest, ypred)))\n",
    "    \n",
    "    # plot confusion matrix\n",
    "    def _plot_confusion_matrix(cm, classes, normalize=False, title=\"Confusion matrix\",\n",
    "                             cmap=plt.cm.Blues):\n",
    "        if normalize:\n",
    "            cm = cm.astype(\"float\") / cm.sum(axis=1)[:, np.newaxis]\n",
    "            print(\"Normalized confusion matrix\")\n",
    "        else:\n",
    "            print(\"Confusion matrix, without normalization\")\n",
    "            \n",
    "        plt.imshow(cm, interpolation=\"nearest\", cmap=cmap)\n",
    "        plt.title(title)\n",
    "        plt.colorbar()\n",
    "        tick_marks = np.arange(len(classes))\n",
    "        plt.xticks(tick_marks, classes)\n",
    "        plt.yticks(tick_marks, classes)\n",
    "        \n",
    "        fmt = '.2f' if normalize else 'd'\n",
    "        thresh = cm.max() / 2\n",
    "        for i, j in product(range(cm.shape[0]), range(cm.shape[1])):\n",
    "            plt.text(j, i, format(cm[i, j], fmt),\n",
    "                    horizontalalignment=\"center\",\n",
    "                     verticalalignment=\"center\",\n",
    "                    color=\"white\" if cm[i, j] > thresh else \"black\",\n",
    "                    fontsize=20)\n",
    "        #plt.tight_layout()\n",
    "        plt.ylabel(\"True Label\")\n",
    "        plt.xlabel(\"Predicted Label\")\n",
    "        \n",
    "    cm = confusion_matrix(ytest, ypred)\n",
    "    np.set_printoptions(precision=2)\n",
    "    \n",
    "    plt.figure(figsize=(5, 5))\n",
    "    _plot_confusion_matrix(cm, classes=[\"Positive\", \"Negative\"])\n",
    "    plt.show()"
   ]
  },
  {
   "cell_type": "code",
   "execution_count": 15,
   "metadata": {},
   "outputs": [
    {
     "name": "stdout",
     "output_type": "stream",
     "text": [
      "              precision    recall  f1-score   support\n",
      "\n",
      "    Positive       0.87      0.92      0.89       112\n",
      "    Negative       0.75      0.63      0.68        43\n",
      "\n",
      "    accuracy                           0.84       155\n",
      "   macro avg       0.81      0.77      0.79       155\n",
      "weighted avg       0.83      0.84      0.83       155\n",
      "\n",
      "Recall: 0.63\n",
      "Accuracy: 0.84\n",
      "Precision: 0.75\n",
      "F1 Score: 0.68\n",
      "Confusion matrix, without normalization\n"
     ]
    },
    {
     "data": {
      "image/png": "[encoded data removed]",
      "text/plain": [
       "<Figure size 360x360 with 2 Axes>"
      ]
     },
     "metadata": {
      "needs_background": "light"
     },
     "output_type": "display_data"
    },
    {
     "name": "stdout",
     "output_type": "stream",
     "text": [
      "              precision    recall  f1-score   support\n",
      "\n",
      "    Positive       0.85      0.93      0.89       112\n",
      "    Negative       0.75      0.56      0.64        43\n",
      "\n",
      "    accuracy                           0.83       155\n",
      "   macro avg       0.80      0.74      0.76       155\n",
      "weighted avg       0.82      0.83      0.82       155\n",
      "\n",
      "Recall: 0.56\n",
      "Accuracy: 0.83\n",
      "Precision: 0.75\n",
      "F1 Score: 0.64\n",
      "Confusion matrix, without normalization\n"
     ]
    },
    {
     "data": {
      "image/png": "[encoded data removed]",
      "text/plain": [
       "<Figure size 360x360 with 2 Axes>"
      ]
     },
     "metadata": {
      "needs_background": "light"
     },
     "output_type": "display_data"
    }
   ],
   "source": [
    "my_classifier(LogisticRegression, Xtrain_m1, ytrain, Xtest_m1, ytest)\n",
    "my_classifier(LogisticRegression, Xtrain_m2, ytrain, Xtest_m2, ytest)"
   ]
  },
  {
   "cell_type": "markdown",
   "metadata": {},
   "source": [
    "### Comments"
   ]
  },
  {
   "cell_type": "markdown",
   "metadata": {},
   "source": [
    "* Working with Matrix 2, we get a higher recall for the negative class and a higher precision for the positive class than with Matrix 1. \n",
    "* The negative class is the minority class so it's good that that we can capture more negative reviews. Matrix 2 helps us do mroe of that. "
   ]
  },
  {
   "cell_type": "markdown",
   "metadata": {},
   "source": [
    "## Question 4 ##"
   ]
  },
  {
   "cell_type": "markdown",
   "metadata": {},
   "source": [
    "Let's try using another machine learning technique to classify these reviews as positive or negative. Go through the exact same exercise in the previous step, except this time, use Naive Bayes instead of Logistic Regression.\n",
    "\n",
    "For count data, use [Multinomial Naive Bayes](http://scikit-learn.org/stable/modules/generated/sklearn.naive_bayes.MultinomialNB.html#sklearn.naive_bayes.MultinomialNB). For binary data, use [Bernoulli Naive Bayes](http://scikit-learn.org/stable/modules/generated/sklearn.naive_bayes.BernoulliNB.html#sklearn.naive_bayes.BernoulliNB).\n",
    "\n",
    "Compare the results of both the Logistic Regression and Naive Bayes models."
   ]
  },
  {
   "cell_type": "code",
   "execution_count": 16,
   "metadata": {},
   "outputs": [
    {
     "name": "stdout",
     "output_type": "stream",
     "text": [
      "              precision    recall  f1-score   support\n",
      "\n",
      "    Positive       0.76      0.98      0.86       112\n",
      "    Negative       0.82      0.21      0.33        43\n",
      "\n",
      "    accuracy                           0.77       155\n",
      "   macro avg       0.79      0.60      0.60       155\n",
      "weighted avg       0.78      0.77      0.71       155\n",
      "\n",
      "Recall: 0.21\n",
      "Accuracy: 0.77\n",
      "Precision: 0.82\n",
      "F1 Score: 0.33\n",
      "Confusion matrix, without normalization\n"
     ]
    },
    {
     "data": {
      "image/png": "[encoded data removed]",
      "text/plain": [
       "<Figure size 360x360 with 2 Axes>"
      ]
     },
     "metadata": {
      "needs_background": "light"
     },
     "output_type": "display_data"
    },
    {
     "name": "stdout",
     "output_type": "stream",
     "text": [
      "              precision    recall  f1-score   support\n",
      "\n",
      "    Positive       0.72      1.00      0.84       112\n",
      "    Negative       0.00      0.00      0.00        43\n",
      "\n",
      "    accuracy                           0.72       155\n",
      "   macro avg       0.36      0.50      0.42       155\n",
      "weighted avg       0.52      0.72      0.61       155\n",
      "\n",
      "Recall: 0.00\n",
      "Accuracy: 0.72\n",
      "Precision: 0.00\n",
      "F1 Score: 0.00\n",
      "Confusion matrix, without normalization\n"
     ]
    },
    {
     "data": {
      "image/png": "[encoded data removed]",
      "text/plain": [
       "<Figure size 360x360 with 2 Axes>"
      ]
     },
     "metadata": {
      "needs_background": "light"
     },
     "output_type": "display_data"
    }
   ],
   "source": [
    "from sklearn.naive_bayes import BernoulliNB\n",
    "\n",
    "my_classifier(BernoulliNB, Xtrain_m1, ytrain, Xtest_m1, ytest)\n",
    "my_classifier(BernoulliNB, Xtrain_m2, ytrain, Xtest_m2, ytest)"
   ]
  },
  {
   "cell_type": "code",
   "execution_count": 17,
   "metadata": {},
   "outputs": [
    {
     "name": "stdout",
     "output_type": "stream",
     "text": [
      "              precision    recall  f1-score   support\n",
      "\n",
      "    Positive       0.91      0.94      0.92       112\n",
      "    Negative       0.82      0.74      0.78        43\n",
      "\n",
      "    accuracy                           0.88       155\n",
      "   macro avg       0.86      0.84      0.85       155\n",
      "weighted avg       0.88      0.88      0.88       155\n",
      "\n",
      "Recall: 0.74\n",
      "Accuracy: 0.88\n",
      "Precision: 0.82\n",
      "F1 Score: 0.78\n",
      "Confusion matrix, without normalization\n"
     ]
    },
    {
     "data": {
      "image/png": "[encoded data removed]",
      "text/plain": [
       "<Figure size 360x360 with 2 Axes>"
      ]
     },
     "metadata": {
      "needs_background": "light"
     },
     "output_type": "display_data"
    },
    {
     "name": "stdout",
     "output_type": "stream",
     "text": [
      "              precision    recall  f1-score   support\n",
      "\n",
      "    Positive       0.83      0.96      0.89       112\n",
      "    Negative       0.84      0.49      0.62        43\n",
      "\n",
      "    accuracy                           0.83       155\n",
      "   macro avg       0.84      0.73      0.76       155\n",
      "weighted avg       0.83      0.83      0.82       155\n",
      "\n",
      "Recall: 0.49\n",
      "Accuracy: 0.83\n",
      "Precision: 0.84\n",
      "F1 Score: 0.62\n",
      "Confusion matrix, without normalization\n"
     ]
    },
    {
     "data": {
      "image/png": "[encoded data removed]",
      "text/plain": [
       "<Figure size 360x360 with 2 Axes>"
      ]
     },
     "metadata": {
      "needs_background": "light"
     },
     "output_type": "display_data"
    }
   ],
   "source": [
    "from sklearn.naive_bayes import MultinomialNB\n",
    "\n",
    "my_classifier(MultinomialNB, Xtrain_m1, ytrain, Xtest_m1, ytest)\n",
    "my_classifier(MultinomialNB, Xtrain_m2, ytrain, Xtest_m2, ytest)"
   ]
  },
  {
   "cell_type": "markdown",
   "metadata": {},
   "source": [
    "### Comments"
   ]
  },
  {
   "cell_type": "markdown",
   "metadata": {},
   "source": [
    "* The Naive Bayes models perform better than the Logistic Regression except for the BernoulliNB which performs poorly when used with the Matrix 2. \n",
    "* The MultinomialNB used with the Matrix 1 performs better of all the models. It has the highest precision for the positive class and the highest recall for the negative class."
   ]
  },
  {
   "cell_type": "markdown",
   "metadata": {},
   "source": [
    "## Question 5 ##"
   ]
  },
  {
   "cell_type": "markdown",
   "metadata": {},
   "source": [
    "Up to this point, we've been using Count Vectorizer to create document-term matrices to input into the models. For at least one of the four models you've created so far, use TF-IDF Vectorizer instead of Count Vectorizer, and see if it improves the results.\n",
    "\n",
    "Out of all of the models you've created, which model do you think best classifies positive and negative cappuccino cup reviews?"
   ]
  },
  {
   "cell_type": "code",
   "execution_count": 18,
   "metadata": {},
   "outputs": [],
   "source": [
    "from sklearn.feature_extraction.text import TfidfVectorizer\n",
    "\n",
    "#matrix 1\n",
    "tfidf_m1 = TfidfVectorizer(stop_words='english')\n",
    "Xtrain_m1_tfidf = tfidf_m1.fit_transform(Xtrain).toarray()\n",
    "Xtest_m1_tfidf = tfidf_m1.transform(Xtest).toarray()\n",
    "\n",
    "#matrix 2\n",
    "tfidf_m2 = TfidfVectorizer(stop_words='english', ngram_range=(1, 2))\n",
    "Xtrain_m2_tfidf = tfidf_m2.fit_transform(Xtrain).toarray()\n",
    "Xtest_m2_tfidf = tfidf_m2.transform(Xtest).toarray()"
   ]
  },
  {
   "cell_type": "code",
   "execution_count": 19,
   "metadata": {},
   "outputs": [
    {
     "name": "stdout",
     "output_type": "stream",
     "text": [
      "<class 'sklearn.linear_model.logistic.LogisticRegression'>\n",
      "              precision    recall  f1-score   support\n",
      "\n",
      "    Positive       0.76      0.99      0.86       112\n",
      "    Negative       0.88      0.16      0.27        43\n",
      "\n",
      "    accuracy                           0.76       155\n",
      "   macro avg       0.82      0.58      0.57       155\n",
      "weighted avg       0.79      0.76      0.70       155\n",
      "\n",
      "Recall: 0.16\n",
      "Accuracy: 0.76\n",
      "Precision: 0.88\n",
      "F1 Score: 0.27\n",
      "Confusion matrix, without normalization\n"
     ]
    },
    {
     "data": {
      "image/png": "[encoded data removed]",
      "text/plain": [
       "<Figure size 360x360 with 2 Axes>"
      ]
     },
     "metadata": {
      "needs_background": "light"
     },
     "output_type": "display_data"
    },
    {
     "name": "stdout",
     "output_type": "stream",
     "text": [
      "              precision    recall  f1-score   support\n",
      "\n",
      "    Positive       0.73      1.00      0.84       112\n",
      "    Negative       1.00      0.02      0.05        43\n",
      "\n",
      "    accuracy                           0.73       155\n",
      "   macro avg       0.86      0.51      0.44       155\n",
      "weighted avg       0.80      0.73      0.62       155\n",
      "\n",
      "Recall: 0.02\n",
      "Accuracy: 0.73\n",
      "Precision: 1.00\n",
      "F1 Score: 0.05\n",
      "Confusion matrix, without normalization\n"
     ]
    },
    {
     "data": {
      "image/png": "[encoded data removed]",
      "text/plain": [
       "<Figure size 360x360 with 2 Axes>"
      ]
     },
     "metadata": {
      "needs_background": "light"
     },
     "output_type": "display_data"
    },
    {
     "name": "stdout",
     "output_type": "stream",
     "text": [
      "<class 'sklearn.naive_bayes.BernoulliNB'>\n",
      "              precision    recall  f1-score   support\n",
      "\n",
      "    Positive       0.76      0.98      0.86       112\n",
      "    Negative       0.82      0.21      0.33        43\n",
      "\n",
      "    accuracy                           0.77       155\n",
      "   macro avg       0.79      0.60      0.60       155\n",
      "weighted avg       0.78      0.77      0.71       155\n",
      "\n",
      "Recall: 0.21\n",
      "Accuracy: 0.77\n",
      "Precision: 0.82\n",
      "F1 Score: 0.33\n",
      "Confusion matrix, without normalization\n"
     ]
    },
    {
     "data": {
      "image/png": "[encoded data removed]",
      "text/plain": [
       "<Figure size 360x360 with 2 Axes>"
      ]
     },
     "metadata": {
      "needs_background": "light"
     },
     "output_type": "display_data"
    },
    {
     "name": "stdout",
     "output_type": "stream",
     "text": [
      "              precision    recall  f1-score   support\n",
      "\n",
      "    Positive       0.72      1.00      0.84       112\n",
      "    Negative       0.00      0.00      0.00        43\n",
      "\n",
      "    accuracy                           0.72       155\n",
      "   macro avg       0.36      0.50      0.42       155\n",
      "weighted avg       0.52      0.72      0.61       155\n",
      "\n",
      "Recall: 0.00\n",
      "Accuracy: 0.72\n",
      "Precision: 0.00\n",
      "F1 Score: 0.00\n",
      "Confusion matrix, without normalization\n"
     ]
    },
    {
     "data": {
      "image/png": "[encoded data removed]",
      "text/plain": [
       "<Figure size 360x360 with 2 Axes>"
      ]
     },
     "metadata": {
      "needs_background": "light"
     },
     "output_type": "display_data"
    },
    {
     "name": "stdout",
     "output_type": "stream",
     "text": [
      "<class 'sklearn.naive_bayes.MultinomialNB'>\n",
      "              precision    recall  f1-score   support\n",
      "\n",
      "    Positive       0.73      1.00      0.85       112\n",
      "    Negative       1.00      0.05      0.09        43\n",
      "\n",
      "    accuracy                           0.74       155\n",
      "   macro avg       0.87      0.52      0.47       155\n",
      "weighted avg       0.81      0.74      0.64       155\n",
      "\n",
      "Recall: 0.05\n",
      "Accuracy: 0.74\n",
      "Precision: 1.00\n",
      "F1 Score: 0.09\n",
      "Confusion matrix, without normalization\n"
     ]
    },
    {
     "data": {
      "image/png": "[encoded data removed]",
      "text/plain": [
       "<Figure size 360x360 with 2 Axes>"
      ]
     },
     "metadata": {
      "needs_background": "light"
     },
     "output_type": "display_data"
    },
    {
     "name": "stdout",
     "output_type": "stream",
     "text": [
      "              precision    recall  f1-score   support\n",
      "\n",
      "    Positive       0.72      1.00      0.84       112\n",
      "    Negative       0.00      0.00      0.00        43\n",
      "\n",
      "    accuracy                           0.72       155\n",
      "   macro avg       0.36      0.50      0.42       155\n",
      "weighted avg       0.52      0.72      0.61       155\n",
      "\n",
      "Recall: 0.00\n",
      "Accuracy: 0.72\n",
      "Precision: 0.00\n",
      "F1 Score: 0.00\n",
      "Confusion matrix, without normalization\n"
     ]
    },
    {
     "data": {
      "image/png": "[encoded data removed]",
      "text/plain": [
       "<Figure size 360x360 with 2 Axes>"
      ]
     },
     "metadata": {
      "needs_background": "light"
     },
     "output_type": "display_data"
    }
   ],
   "source": [
    "for model in [LogisticRegression, BernoulliNB, MultinomialNB]:\n",
    "    print(str(model))\n",
    "    my_classifier(model, Xtrain_m1_tfidf, ytrain, Xtest_m1_tfidf, ytest)\n",
    "    my_classifier(model, Xtrain_m2_tfidf, ytrain, Xtest_m2_tfidf, ytest)"
   ]
  },
  {
   "cell_type": "markdown",
   "metadata": {},
   "source": [
    "### Comment"
   ]
  },
  {
   "cell_type": "markdown",
   "metadata": {},
   "source": [
    "* Tfidf Vectorizer worsens the predictions\n",
    "* Tfidf Vectorizer with ngram range (1, 2) performs even poorer than that w single ngram. \n",
    "* Bernoulli with Tfidf single ngram performs the best of all the models. "
   ]
  }
 ],
 "metadata": {
  "kernelspec": {
   "display_name": "Python 3",
   "language": "python",
   "name": "python3"
  },
  "language_info": {
   "codemirror_mode": {
    "name": "ipython",
    "version": 3
   },
   "file_extension": ".py",
   "mimetype": "text/x-python",
   "name": "python",
   "nbconvert_exporter": "python",
   "pygments_lexer": "ipython3",
   "version": "3.7.4"
  },
  "toc": {
   "colors": {
    "hover_highlight": "#DAA520",
    "navigate_num": "#000000",
    "navigate_text": "#333333",
    "running_highlight": "#FF0000",
    "selected_highlight": "#FFD700",
    "sidebar_border": "#EEEEEE",
    "wrapper_background": "#FFFFFF"
   },
   "moveMenuLeft": true,
   "nav_menu": {
    "height": "120px",
    "width": "252px"
   },
   "navigate_menu": true,
   "number_sections": true,
   "sideBar": true,
   "threshold": 4,
   "toc_cell": false,
   "toc_section_display": "block",
   "toc_window_display": false,
   "widenNotebook": false
  }
 },
 "nbformat": 4,
 "nbformat_minor": 4
}
